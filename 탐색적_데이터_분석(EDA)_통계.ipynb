{
  "nbformat": 4,
  "nbformat_minor": 0,
  "metadata": {
    "colab": {
      "provenance": []
    },
    "kernelspec": {
      "name": "python3",
      "display_name": "Python 3"
    },
    "language_info": {
      "name": "python"
    }
  },
  "cells": [
    {
      "cell_type": "code",
      "source": [
        "# (그래프에 한글이 깨질경우) 아래 코드 실행 > '런타임: 세션 다시시작' 실행\n",
        "!pip install matplotlib -U\n",
        "!sudo apt-get install -y fonts-nanum\n",
        "!sudo fc-cache -fv\n",
        "!rm ~/.cache/matplotlib -rf"
      ],
      "metadata": {
        "id": "1VAyZd0j4cp4"
      },
      "execution_count": null,
      "outputs": []
    },
    {
      "cell_type": "markdown",
      "source": [
        "## **라이브러리 다운로드 및 불러오기**"
      ],
      "metadata": {
        "id": "IaOVKj-GcD25"
      }
    },
    {
      "cell_type": "code",
      "source": [
        "# 라이브러리 불러오기: 데이터 핸들링\n",
        "import numpy as np\n",
        "import pandas as pd\n",
        "from datetime import datetime, timedelta\n",
        "from tqdm import tqdm, trange\n",
        "\n",
        "# 라이브러리 불러오기: 데이터 시각화\n",
        "import matplotlib.pyplot as plt\n",
        "import seaborn as sns\n",
        "%matplotlib inline\n",
        "import matplotlib\n",
        "matplotlib.rcParams['axes.unicode_minus'] = False  # plot \"-\" 부호 표기 설정\n",
        "import plotly.express as px\n",
        "\n",
        "# 라이브러리 불러오기: 수리통계\n",
        "from scipy import stats as sp # 과학 계산용 파이썬 모듈\n",
        "from scipy import stats\n",
        "from scipy.stats import *\n",
        "import scipy.stats\n",
        "import scipy\n",
        "from scipy.stats import shapiro\n",
        "from scipy import stats"
      ],
      "metadata": {
        "id": "G5misSsX0Mx8"
      },
      "execution_count": null,
      "outputs": []
    },
    {
      "cell_type": "code",
      "source": [
        "# 라이브러리 불러오기: 경고 안내 무시\n",
        "import warnings\n",
        "warnings.filterwarnings('ignore')"
      ],
      "metadata": {
        "id": "QX86nL4EmjEE"
      },
      "execution_count": null,
      "outputs": []
    },
    {
      "cell_type": "code",
      "source": [
        "#구글드라이브 연동\n",
        "from google.colab import drive\n",
        "drive.mount('/content/drive')"
      ],
      "metadata": {
        "colab": {
          "base_uri": "https://localhost:8080/"
        },
        "id": "HksE20GE4BuI",
        "outputId": "1edd6e8c-3f09-4d67-d049-e3a316acc79f"
      },
      "execution_count": null,
      "outputs": [
        {
          "output_type": "stream",
          "name": "stdout",
          "text": [
            "Mounted at /content/drive\n"
          ]
        }
      ]
    },
    {
      "cell_type": "code",
      "source": [
        "# 시각화 옵션 함수\n",
        "def plot_font():\n",
        "  plt.rc('font', family='NanumGothic')\n",
        "  %matplotlib inline\n",
        "  plt.xticks(rotation=90, size = 9, fontweight='bold')\n",
        "  plt.yticks(size = 9, fontweight='bold')\n",
        "\n",
        "def plot_size01():\n",
        "  plt.figure(figsize=(8, 4))\n",
        "\n",
        "def plot_size02():\n",
        "  plt.figure(figsize=(14, 6))\n",
        "\n",
        "sns.palplot(sns.color_palette(\"Paired\"))"
      ],
      "metadata": {
        "colab": {
          "base_uri": "https://localhost:8080/",
          "height": 118
        },
        "id": "4PjO1B9MxJQ5",
        "outputId": "8cf0cb35-9c2b-4a87-daef-b3e7b7a0652a"
      },
      "execution_count": null,
      "outputs": [
        {
          "output_type": "display_data",
          "data": {
            "text/plain": [
              "<Figure size 1200x100 with 1 Axes>"
            ],
            "image/png": "[encoded data removed]"
          },
          "metadata": {}
        }
      ]
    },
    {
      "cell_type": "markdown",
      "source": [
        "---"
      ],
      "metadata": {
        "id": "gghVZkzSPumg"
      }
    },
    {
      "cell_type": "markdown",
      "source": [
        "## **데이터**\n",
        "  - 데이터명: 온라인 식료품 데이터(Relay Foods)\n",
        "  - 출처: 캐글의 오픈 데이터(https://github.com/springcoil/marsmodelling)"
      ],
      "metadata": {
        "id": "wdCmgmYOLgaw"
      }
    },
    {
      "cell_type": "code",
      "source": [
        "# 데이터 불러오기\n",
        "df = pd.read_excel('https://github.com/springcoil/marsmodelling/blob/master/relay-foods.xlsx?raw=true', sheet_name='Purchase Data - Full Study')\n",
        "df.columns = ['주문ID', '주문날짜', '고객ID', '총청구액', '공용ID', '픽업ID', '픽업날짜']\n",
        "del df['공용ID']"
      ],
      "metadata": {
        "id": "68147vDWncFL"
      },
      "execution_count": null,
      "outputs": []
    },
    {
      "cell_type": "markdown",
      "source": [
        "## **데이터 탐색: 함수 중심**"
      ],
      "metadata": {
        "id": "EmEQk3EcpJWN"
      }
    },
    {
      "cell_type": "code",
      "source": [
        "# 데이터 행/열 확인\n",
        "df.shape"
      ],
      "metadata": {
        "colab": {
          "base_uri": "https://localhost:8080/"
        },
        "id": "J04VOkCln5VE",
        "outputId": "ff90a9f0-4686-45d9-e14e-a0e5410ce29c"
      },
      "execution_count": null,
      "outputs": [
        {
          "output_type": "execute_result",
          "data": {
            "text/plain": [
              "(2891, 6)"
            ]
          },
          "metadata": {},
          "execution_count": 5
        }
      ]
    },
    {
      "cell_type": "code",
      "source": [
        "# 데이터 맨 앞쪽 결과 확인(default: 5)\n",
        "df.head()"
      ],
      "metadata": {
        "colab": {
          "base_uri": "https://localhost:8080/",
          "height": 206
        },
        "id": "aWL8P4edC2z9",
        "outputId": "15011903-cb31-4e39-dbed-5122647b73f9"
      },
      "execution_count": null,
      "outputs": [
        {
          "output_type": "execute_result",
          "data": {
            "text/plain": [
              "   주문ID       주문날짜  고객ID   총청구액  픽업ID       픽업날짜\n",
              "0   262 2009-01-11    47  50.67     2 2009-01-12\n",
              "1   278 2009-01-20    47  26.60     3 2009-01-20\n",
              "2   294 2009-02-03    47  38.71     2 2009-02-04\n",
              "3   301 2009-02-06    47  53.38     2 2009-02-09\n",
              "4   302 2009-02-06    47  14.28     2 2009-02-09"
            ],
            "text/html": [
              "\n",
              "  <div id=\"df-e6674d37-a66d-4c04-8f4a-3a0b703ebd91\" class=\"colab-df-container\">\n",
              "    <div>\n",
              "<style scoped>\n",
              "    .dataframe tbody tr th:only-of-type {\n",
              "        vertical-align: middle;\n",
              "    }\n",
              "\n",
              "    .dataframe tbody tr th {\n",
              "        vertical-align: top;\n",
              "    }\n",
              "\n",
              "    .dataframe thead th {\n",
              "        text-align: right;\n",
              "    }\n",
              "</style>\n",
              "<table border=\"1\" class=\"dataframe\">\n",
              "  <thead>\n",
              "    <tr style=\"text-align: right;\">\n",
              "      <th></th>\n",
              "      <th>주문ID</th>\n",
              "      <th>주문날짜</th>\n",
              "      <th>고객ID</th>\n",
              "      <th>총청구액</th>\n",
              "      <th>픽업ID</th>\n",
              "      <th>픽업날짜</th>\n",
              "    </tr>\n",
              "  </thead>\n",
              "  <tbody>\n",
              "    <tr>\n",
              "      <th>0</th>\n",
              "      <td>262</td>\n",
              "      <td>2009-01-11</td>\n",
              "      <td>47</td>\n",
              "      <td>50.67</td>\n",
              "      <td>2</td>\n",
              "      <td>2009-01-12</td>\n",
              "    </tr>\n",
              "    <tr>\n",
              "      <th>1</th>\n",
              "      <td>278</td>\n",
              "      <td>2009-01-20</td>\n",
              "      <td>47</td>\n",
              "      <td>26.60</td>\n",
              "      <td>3</td>\n",
              "      <td>2009-01-20</td>\n",
              "    </tr>\n",
              "    <tr>\n",
              "      <th>2</th>\n",
              "      <td>294</td>\n",
              "      <td>2009-02-03</td>\n",
              "      <td>47</td>\n",
              "      <td>38.71</td>\n",
              "      <td>2</td>\n",
              "      <td>2009-02-04</td>\n",
              "    </tr>\n",
              "    <tr>\n",
              "      <th>3</th>\n",
              "      <td>301</td>\n",
              "      <td>2009-02-06</td>\n",
              "      <td>47</td>\n",
              "      <td>53.38</td>\n",
              "      <td>2</td>\n",
              "      <td>2009-02-09</td>\n",
              "    </tr>\n",
              "    <tr>\n",
              "      <th>4</th>\n",
              "      <td>302</td>\n",
              "      <td>2009-02-06</td>\n",
              "      <td>47</td>\n",
              "      <td>14.28</td>\n",
              "      <td>2</td>\n",
              "      <td>2009-02-09</td>\n",
              "    </tr>\n",
              "  </tbody>\n",
              "</table>\n",
              "</div>\n",
              "    <div class=\"colab-df-buttons\">\n",
              "\n",
              "  <div class=\"colab-df-container\">\n",
              "    <button class=\"colab-df-convert\" onclick=\"convertToInteractive('df-e6674d37-a66d-4c04-8f4a-3a0b703ebd91')\"\n",
              "            title=\"Convert this dataframe to an interactive table.\"\n",
              "            style=\"display:none;\">\n",
              "\n",
              "  <svg xmlns=\"http://www.w3.org/2000/svg\" height=\"24px\" viewBox=\"0 -960 960 960\">\n",
              "    <path d=\"M120-120v-720h720v720H120Zm60-500h600v-160H180v160Zm220 220h160v-160H400v160Zm0 220h160v-160H400v160ZM180-400h160v-160H180v160Zm440 0h160v-160H620v160ZM180-180h160v-160H180v160Zm440 0h160v-160H620v160Z\"/>\n",
              "  </svg>\n",
              "    </button>\n",
              "\n",
              "  <style>\n",
              "    .colab-df-container {\n",
              "      display:flex;\n",
              "      gap: 12px;\n",
              "    }\n",
              "\n",
              "    .colab-df-convert {\n",
              "      background-color: #E8F0FE;\n",
              "      border: none;\n",
              "      border-radius: 50%;\n",
              "      cursor: pointer;\n",
              "      display: none;\n",
              "      fill: #1967D2;\n",
              "      height: 32px;\n",
              "      padding: 0 0 0 0;\n",
              "      width: 32px;\n",
              "    }\n",
              "\n",
              "    .colab-df-convert:hover {\n",
              "      background-color: #E2EBFA;\n",
              "      box-shadow: 0px 1px 2px rgba(60, 64, 67, 0.3), 0px 1px 3px 1px rgba(60, 64, 67, 0.15);\n",
              "      fill: #174EA6;\n",
              "    }\n",
              "\n",
              "    .colab-df-buttons div {\n",
              "      margin-bottom: 4px;\n",
              "    }\n",
              "\n",
              "    [theme=dark] .colab-df-convert {\n",
              "      background-color: #3B4455;\n",
              "      fill: #D2E3FC;\n",
              "    }\n",
              "\n",
              "    [theme=dark] .colab-df-convert:hover {\n",
              "      background-color: #434B5C;\n",
              "      box-shadow: 0px 1px 3px 1px rgba(0, 0, 0, 0.15);\n",
              "      filter: drop-shadow(0px 1px 2px rgba(0, 0, 0, 0.3));\n",
              "      fill: #FFFFFF;\n",
              "    }\n",
              "  </style>\n",
              "\n",
              "    <script>\n",
              "      const buttonEl =\n",
              "        document.querySelector('#df-e6674d37-a66d-4c04-8f4a-3a0b703ebd91 button.colab-df-convert');\n",
              "      buttonEl.style.display =\n",
              "        google.colab.kernel.accessAllowed ? 'block' : 'none';\n",
              "\n",
              "      async function convertToInteractive(key) {\n",
              "        const element = document.querySelector('#df-e6674d37-a66d-4c04-8f4a-3a0b703ebd91');\n",
              "        const dataTable =\n",
              "          await google.colab.kernel.invokeFunction('convertToInteractive',\n",
              "                                                    [key], {});\n",
              "        if (!dataTable) return;\n",
              "\n",
              "        const docLinkHtml = 'Like what you see? Visit the ' +\n",
              "          '<a target=\"_blank\" href=https://colab.research.google.com/notebooks/data_table.ipynb>data table notebook</a>'\n",
              "          + ' to learn more about interactive tables.';\n",
              "        element.innerHTML = '';\n",
              "        dataTable['output_type'] = 'display_data';\n",
              "        await google.colab.output.renderOutput(dataTable, element);\n",
              "        const docLink = document.createElement('div');\n",
              "        docLink.innerHTML = docLinkHtml;\n",
              "        element.appendChild(docLink);\n",
              "      }\n",
              "    </script>\n",
              "  </div>\n",
              "\n",
              "\n",
              "<div id=\"df-f2cd0093-f03d-4041-84f9-f6eb66e67533\">\n",
              "  <button class=\"colab-df-quickchart\" onclick=\"quickchart('df-f2cd0093-f03d-4041-84f9-f6eb66e67533')\"\n",
              "            title=\"Suggest charts\"\n",
              "            style=\"display:none;\">\n",
              "\n",
              "<svg xmlns=\"http://www.w3.org/2000/svg\" height=\"24px\"viewBox=\"0 0 24 24\"\n",
              "     width=\"24px\">\n",
              "    <g>\n",
              "        <path d=\"M19 3H5c-1.1 0-2 .9-2 2v14c0 1.1.9 2 2 2h14c1.1 0 2-.9 2-2V5c0-1.1-.9-2-2-2zM9 17H7v-7h2v7zm4 0h-2V7h2v10zm4 0h-2v-4h2v4z\"/>\n",
              "    </g>\n",
              "</svg>\n",
              "  </button>\n",
              "\n",
              "<style>\n",
              "  .colab-df-quickchart {\n",
              "      --bg-color: #E8F0FE;\n",
              "      --fill-color: #1967D2;\n",
              "      --hover-bg-color: #E2EBFA;\n",
              "      --hover-fill-color: #174EA6;\n",
              "      --disabled-fill-color: #AAA;\n",
              "      --disabled-bg-color: #DDD;\n",
              "  }\n",
              "\n",
              "  [theme=dark] .colab-df-quickchart {\n",
              "      --bg-color: #3B4455;\n",
              "      --fill-color: #D2E3FC;\n",
              "      --hover-bg-color: #434B5C;\n",
              "      --hover-fill-color: #FFFFFF;\n",
              "      --disabled-bg-color: #3B4455;\n",
              "      --disabled-fill-color: #666;\n",
              "  }\n",
              "\n",
              "  .colab-df-quickchart {\n",
              "    background-color: var(--bg-color);\n",
              "    border: none;\n",
              "    border-radius: 50%;\n",
              "    cursor: pointer;\n",
              "    display: none;\n",
              "    fill: var(--fill-color);\n",
              "    height: 32px;\n",
              "    padding: 0;\n",
              "    width: 32px;\n",
              "  }\n",
              "\n",
              "  .colab-df-quickchart:hover {\n",
              "    background-color: var(--hover-bg-color);\n",
              "    box-shadow: 0 1px 2px rgba(60, 64, 67, 0.3), 0 1px 3px 1px rgba(60, 64, 67, 0.15);\n",
              "    fill: var(--button-hover-fill-color);\n",
              "  }\n",
              "\n",
              "  .colab-df-quickchart-complete:disabled,\n",
              "  .colab-df-quickchart-complete:disabled:hover {\n",
              "    background-color: var(--disabled-bg-color);\n",
              "    fill: var(--disabled-fill-color);\n",
              "    box-shadow: none;\n",
              "  }\n",
              "\n",
              "  .colab-df-spinner {\n",
              "    border: 2px solid var(--fill-color);\n",
              "    border-color: transparent;\n",
              "    border-bottom-color: var(--fill-color);\n",
              "    animation:\n",
              "      spin 1s steps(1) infinite;\n",
              "  }\n",
              "\n",
              "  @keyframes spin {\n",
              "    0% {\n",
              "      border-color: transparent;\n",
              "      border-bottom-color: var(--fill-color);\n",
              "      border-left-color: var(--fill-color);\n",
              "    }\n",
              "    20% {\n",
              "      border-color: transparent;\n",
              "      border-left-color: var(--fill-color);\n",
              "      border-top-color: var(--fill-color);\n",
              "    }\n",
              "    30% {\n",
              "      border-color: transparent;\n",
              "      border-left-color: var(--fill-color);\n",
              "      border-top-color: var(--fill-color);\n",
              "      border-right-color: var(--fill-color);\n",
              "    }\n",
              "    40% {\n",
              "      border-color: transparent;\n",
              "      border-right-color: var(--fill-color);\n",
              "      border-top-color: var(--fill-color);\n",
              "    }\n",
              "    60% {\n",
              "      border-color: transparent;\n",
              "      border-right-color: var(--fill-color);\n",
              "    }\n",
              "    80% {\n",
              "      border-color: transparent;\n",
              "      border-right-color: var(--fill-color);\n",
              "      border-bottom-color: var(--fill-color);\n",
              "    }\n",
              "    90% {\n",
              "      border-color: transparent;\n",
              "      border-bottom-color: var(--fill-color);\n",
              "    }\n",
              "  }\n",
              "</style>\n",
              "\n",
              "  <script>\n",
              "    async function quickchart(key) {\n",
              "      const quickchartButtonEl =\n",
              "        document.querySelector('#' + key + ' button');\n",
              "      quickchartButtonEl.disabled = true;  // To prevent multiple clicks.\n",
              "      quickchartButtonEl.classList.add('colab-df-spinner');\n",
              "      try {\n",
              "        const charts = await google.colab.kernel.invokeFunction(\n",
              "            'suggestCharts', [key], {});\n",
              "      } catch (error) {\n",
              "        console.error('Error during call to suggestCharts:', error);\n",
              "      }\n",
              "      quickchartButtonEl.classList.remove('colab-df-spinner');\n",
              "      quickchartButtonEl.classList.add('colab-df-quickchart-complete');\n",
              "    }\n",
              "    (() => {\n",
              "      let quickchartButtonEl =\n",
              "        document.querySelector('#df-f2cd0093-f03d-4041-84f9-f6eb66e67533 button');\n",
              "      quickchartButtonEl.style.display =\n",
              "        google.colab.kernel.accessAllowed ? 'block' : 'none';\n",
              "    })();\n",
              "  </script>\n",
              "</div>\n",
              "\n",
              "    </div>\n",
              "  </div>\n"
            ],
            "application/vnd.google.colaboratory.intrinsic+json": {
              "type": "dataframe",
              "variable_name": "df",
              "summary": "{\n  \"name\": \"df\",\n  \"rows\": 2891,\n  \"fields\": [\n    {\n      \"column\": \"\\uc8fc\\ubb38ID\",\n      \"properties\": {\n        \"dtype\": \"number\",\n        \"std\": 855,\n        \"min\": 256,\n        \"max\": 3234,\n        \"num_unique_values\": 2891,\n        \"samples\": [\n          2171,\n          988,\n          2101\n        ],\n        \"semantic_type\": \"\",\n        \"description\": \"\"\n      }\n    },\n    {\n      \"column\": \"\\uc8fc\\ubb38\\ub0a0\\uc9dc\",\n      \"properties\": {\n        \"dtype\": \"date\",\n        \"min\": \"2009-01-06 00:00:00\",\n        \"max\": \"2010-03-09 00:00:00\",\n        \"num_unique_values\": 359,\n        \"samples\": [\n          \"2009-07-09 00:00:00\",\n          \"2009-09-29 00:00:00\",\n          \"2009-10-09 00:00:00\"\n        ],\n        \"semantic_type\": \"\",\n        \"description\": \"\"\n      }\n    },\n    {\n      \"column\": \"\\uace0\\uac1dID\",\n      \"properties\": {\n        \"dtype\": \"number\",\n        \"std\": 96952,\n        \"min\": 47,\n        \"max\": 396551,\n        \"num_unique_values\": 757,\n        \"samples\": [\n          130692,\n          6224,\n          59561\n        ],\n        \"semantic_type\": \"\",\n        \"description\": \"\"\n      }\n    },\n    {\n      \"column\": \"\\ucd1d\\uccad\\uad6c\\uc561\",\n      \"properties\": {\n        \"dtype\": \"number\",\n        \"std\": 55.009949045504435,\n        \"min\": 1.39,\n        \"max\": 690.9827,\n        \"num_unique_values\": 2662,\n        \"samples\": [\n          26.9588,\n          24.24,\n          43.8479\n        ],\n        \"semantic_type\": \"\",\n        \"description\": \"\"\n      }\n    },\n    {\n      \"column\": \"\\ud53d\\uc5c5ID\",\n      \"properties\": {\n        \"dtype\": \"number\",\n        \"std\": 4,\n        \"min\": 2,\n        \"max\": 20,\n        \"num_unique_values\": 18,\n        \"samples\": [\n          2,\n          3,\n          7\n        ],\n        \"semantic_type\": \"\",\n        \"description\": \"\"\n      }\n    },\n    {\n      \"column\": \"\\ud53d\\uc5c5\\ub0a0\\uc9dc\",\n      \"properties\": {\n        \"dtype\": \"date\",\n        \"min\": \"2009-01-06 00:00:00\",\n        \"max\": \"2010-03-10 00:00:00\",\n        \"num_unique_values\": 213,\n        \"samples\": [\n          \"2009-03-19 00:00:00\",\n          \"2009-05-09 00:00:00\",\n          \"2009-11-13 00:00:00\"\n        ],\n        \"semantic_type\": \"\",\n        \"description\": \"\"\n      }\n    }\n  ]\n}"
            }
          },
          "metadata": {},
          "execution_count": 6
        }
      ]
    },
    {
      "cell_type": "code",
      "source": [
        "# 데이터 맨 마지막 결과 확인(default: 5)\n",
        "df.tail()"
      ],
      "metadata": {
        "colab": {
          "base_uri": "https://localhost:8080/",
          "height": 206
        },
        "id": "lD9GkYFcC2x1",
        "outputId": "a0b06501-b764-43e3-d8c3-408d33d7422e"
      },
      "execution_count": null,
      "outputs": [
        {
          "output_type": "execute_result",
          "data": {
            "text/plain": [
              "      주문ID       주문날짜    고객ID      총청구액  픽업ID       픽업날짜\n",
              "2886  3220 2010-03-08  393616   60.0155    15 2010-03-08\n",
              "2887  3192 2010-03-07  394290   45.4300    12 2010-03-10\n",
              "2888  3193 2010-03-07  394346   14.2100    15 2010-03-08\n",
              "2889  3207 2010-03-08  395039   34.6200     4 2010-03-08\n",
              "2890  3231 2010-03-08  396551  127.2800     3 2010-03-09"
            ],
            "text/html": [
              "\n",
              "  <div id=\"df-72686417-c978-495f-8424-bba828b6672c\" class=\"colab-df-container\">\n",
              "    <div>\n",
              "<style scoped>\n",
              "    .dataframe tbody tr th:only-of-type {\n",
              "        vertical-align: middle;\n",
              "    }\n",
              "\n",
              "    .dataframe tbody tr th {\n",
              "        vertical-align: top;\n",
              "    }\n",
              "\n",
              "    .dataframe thead th {\n",
              "        text-align: right;\n",
              "    }\n",
              "</style>\n",
              "<table border=\"1\" class=\"dataframe\">\n",
              "  <thead>\n",
              "    <tr style=\"text-align: right;\">\n",
              "      <th></th>\n",
              "      <th>주문ID</th>\n",
              "      <th>주문날짜</th>\n",
              "      <th>고객ID</th>\n",
              "      <th>총청구액</th>\n",
              "      <th>픽업ID</th>\n",
              "      <th>픽업날짜</th>\n",
              "    </tr>\n",
              "  </thead>\n",
              "  <tbody>\n",
              "    <tr>\n",
              "      <th>2886</th>\n",
              "      <td>3220</td>\n",
              "      <td>2010-03-08</td>\n",
              "      <td>393616</td>\n",
              "      <td>60.0155</td>\n",
              "      <td>15</td>\n",
              "      <td>2010-03-08</td>\n",
              "    </tr>\n",
              "    <tr>\n",
              "      <th>2887</th>\n",
              "      <td>3192</td>\n",
              "      <td>2010-03-07</td>\n",
              "      <td>394290</td>\n",
              "      <td>45.4300</td>\n",
              "      <td>12</td>\n",
              "      <td>2010-03-10</td>\n",
              "    </tr>\n",
              "    <tr>\n",
              "      <th>2888</th>\n",
              "      <td>3193</td>\n",
              "      <td>2010-03-07</td>\n",
              "      <td>394346</td>\n",
              "      <td>14.2100</td>\n",
              "      <td>15</td>\n",
              "      <td>2010-03-08</td>\n",
              "    </tr>\n",
              "    <tr>\n",
              "      <th>2889</th>\n",
              "      <td>3207</td>\n",
              "      <td>2010-03-08</td>\n",
              "      <td>395039</td>\n",
              "      <td>34.6200</td>\n",
              "      <td>4</td>\n",
              "      <td>2010-03-08</td>\n",
              "    </tr>\n",
              "    <tr>\n",
              "      <th>2890</th>\n",
              "      <td>3231</td>\n",
              "      <td>2010-03-08</td>\n",
              "      <td>396551</td>\n",
              "      <td>127.2800</td>\n",
              "      <td>3</td>\n",
              "      <td>2010-03-09</td>\n",
              "    </tr>\n",
              "  </tbody>\n",
              "</table>\n",
              "</div>\n",
              "    <div class=\"colab-df-buttons\">\n",
              "\n",
              "  <div class=\"colab-df-container\">\n",
              "    <button class=\"colab-df-convert\" onclick=\"convertToInteractive('df-72686417-c978-495f-8424-bba828b6672c')\"\n",
              "            title=\"Convert this dataframe to an interactive table.\"\n",
              "            style=\"display:none;\">\n",
              "\n",
              "  <svg xmlns=\"http://www.w3.org/2000/svg\" height=\"24px\" viewBox=\"0 -960 960 960\">\n",
              "    <path d=\"M120-120v-720h720v720H120Zm60-500h600v-160H180v160Zm220 220h160v-160H400v160Zm0 220h160v-160H400v160ZM180-400h160v-160H180v160Zm440 0h160v-160H620v160ZM180-180h160v-160H180v160Zm440 0h160v-160H620v160Z\"/>\n",
              "  </svg>\n",
              "    </button>\n",
              "\n",
              "  <style>\n",
              "    .colab-df-container {\n",
              "      display:flex;\n",
              "      gap: 12px;\n",
              "    }\n",
              "\n",
              "    .colab-df-convert {\n",
              "      background-color: #E8F0FE;\n",
              "      border: none;\n",
              "      border-radius: 50%;\n",
              "      cursor: pointer;\n",
              "      display: none;\n",
              "      fill: #1967D2;\n",
              "      height: 32px;\n",
              "      padding: 0 0 0 0;\n",
              "      width: 32px;\n",
              "    }\n",
              "\n",
              "    .colab-df-convert:hover {\n",
              "      background-color: #E2EBFA;\n",
              "      box-shadow: 0px 1px 2px rgba(60, 64, 67, 0.3), 0px 1px 3px 1px rgba(60, 64, 67, 0.15);\n",
              "      fill: #174EA6;\n",
              "    }\n",
              "\n",
              "    .colab-df-buttons div {\n",
              "      margin-bottom: 4px;\n",
              "    }\n",
              "\n",
              "    [theme=dark] .colab-df-convert {\n",
              "      background-color: #3B4455;\n",
              "      fill: #D2E3FC;\n",
              "    }\n",
              "\n",
              "    [theme=dark] .colab-df-convert:hover {\n",
              "      background-color: #434B5C;\n",
              "      box-shadow: 0px 1px 3px 1px rgba(0, 0, 0, 0.15);\n",
              "      filter: drop-shadow(0px 1px 2px rgba(0, 0, 0, 0.3));\n",
              "      fill: #FFFFFF;\n",
              "    }\n",
              "  </style>\n",
              "\n",
              "    <script>\n",
              "      const buttonEl =\n",
              "        document.querySelector('#df-72686417-c978-495f-8424-bba828b6672c button.colab-df-convert');\n",
              "      buttonEl.style.display =\n",
              "        google.colab.kernel.accessAllowed ? 'block' : 'none';\n",
              "\n",
              "      async function convertToInteractive(key) {\n",
              "        const element = document.querySelector('#df-72686417-c978-495f-8424-bba828b6672c');\n",
              "        const dataTable =\n",
              "          await google.colab.kernel.invokeFunction('convertToInteractive',\n",
              "                                                    [key], {});\n",
              "        if (!dataTable) return;\n",
              "\n",
              "        const docLinkHtml = 'Like what you see? Visit the ' +\n",
              "          '<a target=\"_blank\" href=https://colab.research.google.com/notebooks/data_table.ipynb>data table notebook</a>'\n",
              "          + ' to learn more about interactive tables.';\n",
              "        element.innerHTML = '';\n",
              "        dataTable['output_type'] = 'display_data';\n",
              "        await google.colab.output.renderOutput(dataTable, element);\n",
              "        const docLink = document.createElement('div');\n",
              "        docLink.innerHTML = docLinkHtml;\n",
              "        element.appendChild(docLink);\n",
              "      }\n",
              "    </script>\n",
              "  </div>\n",
              "\n",
              "\n",
              "<div id=\"df-5c9ebb1e-1deb-4f19-9fcb-fb9365f37e03\">\n",
              "  <button class=\"colab-df-quickchart\" onclick=\"quickchart('df-5c9ebb1e-1deb-4f19-9fcb-fb9365f37e03')\"\n",
              "            title=\"Suggest charts\"\n",
              "            style=\"display:none;\">\n",
              "\n",
              "<svg xmlns=\"http://www.w3.org/2000/svg\" height=\"24px\"viewBox=\"0 0 24 24\"\n",
              "     width=\"24px\">\n",
              "    <g>\n",
              "        <path d=\"M19 3H5c-1.1 0-2 .9-2 2v14c0 1.1.9 2 2 2h14c1.1 0 2-.9 2-2V5c0-1.1-.9-2-2-2zM9 17H7v-7h2v7zm4 0h-2V7h2v10zm4 0h-2v-4h2v4z\"/>\n",
              "    </g>\n",
              "</svg>\n",
              "  </button>\n",
              "\n",
              "<style>\n",
              "  .colab-df-quickchart {\n",
              "      --bg-color: #E8F0FE;\n",
              "      --fill-color: #1967D2;\n",
              "      --hover-bg-color: #E2EBFA;\n",
              "      --hover-fill-color: #174EA6;\n",
              "      --disabled-fill-color: #AAA;\n",
              "      --disabled-bg-color: #DDD;\n",
              "  }\n",
              "\n",
              "  [theme=dark] .colab-df-quickchart {\n",
              "      --bg-color: #3B4455;\n",
              "      --fill-color: #D2E3FC;\n",
              "      --hover-bg-color: #434B5C;\n",
              "      --hover-fill-color: #FFFFFF;\n",
              "      --disabled-bg-color: #3B4455;\n",
              "      --disabled-fill-color: #666;\n",
              "  }\n",
              "\n",
              "  .colab-df-quickchart {\n",
              "    background-color: var(--bg-color);\n",
              "    border: none;\n",
              "    border-radius: 50%;\n",
              "    cursor: pointer;\n",
              "    display: none;\n",
              "    fill: var(--fill-color);\n",
              "    height: 32px;\n",
              "    padding: 0;\n",
              "    width: 32px;\n",
              "  }\n",
              "\n",
              "  .colab-df-quickchart:hover {\n",
              "    background-color: var(--hover-bg-color);\n",
              "    box-shadow: 0 1px 2px rgba(60, 64, 67, 0.3), 0 1px 3px 1px rgba(60, 64, 67, 0.15);\n",
              "    fill: var(--button-hover-fill-color);\n",
              "  }\n",
              "\n",
              "  .colab-df-quickchart-complete:disabled,\n",
              "  .colab-df-quickchart-complete:disabled:hover {\n",
              "    background-color: var(--disabled-bg-color);\n",
              "    fill: var(--disabled-fill-color);\n",
              "    box-shadow: none;\n",
              "  }\n",
              "\n",
              "  .colab-df-spinner {\n",
              "    border: 2px solid var(--fill-color);\n",
              "    border-color: transparent;\n",
              "    border-bottom-color: var(--fill-color);\n",
              "    animation:\n",
              "      spin 1s steps(1) infinite;\n",
              "  }\n",
              "\n",
              "  @keyframes spin {\n",
              "    0% {\n",
              "      border-color: transparent;\n",
              "      border-bottom-color: var(--fill-color);\n",
              "      border-left-color: var(--fill-color);\n",
              "    }\n",
              "    20% {\n",
              "      border-color: transparent;\n",
              "      border-left-color: var(--fill-color);\n",
              "      border-top-color: var(--fill-color);\n",
              "    }\n",
              "    30% {\n",
              "      border-color: transparent;\n",
              "      border-left-color: var(--fill-color);\n",
              "      border-top-color: var(--fill-color);\n",
              "      border-right-color: var(--fill-color);\n",
              "    }\n",
              "    40% {\n",
              "      border-color: transparent;\n",
              "      border-right-color: var(--fill-color);\n",
              "      border-top-color: var(--fill-color);\n",
              "    }\n",
              "    60% {\n",
              "      border-color: transparent;\n",
              "      border-right-color: var(--fill-color);\n",
              "    }\n",
              "    80% {\n",
              "      border-color: transparent;\n",
              "      border-right-color: var(--fill-color);\n",
              "      border-bottom-color: var(--fill-color);\n",
              "    }\n",
              "    90% {\n",
              "      border-color: transparent;\n",
              "      border-bottom-color: var(--fill-color);\n",
              "    }\n",
              "  }\n",
              "</style>\n",
              "\n",
              "  <script>\n",
              "    async function quickchart(key) {\n",
              "      const quickchartButtonEl =\n",
              "        document.querySelector('#' + key + ' button');\n",
              "      quickchartButtonEl.disabled = true;  // To prevent multiple clicks.\n",
              "      quickchartButtonEl.classList.add('colab-df-spinner');\n",
              "      try {\n",
              "        const charts = await google.colab.kernel.invokeFunction(\n",
              "            'suggestCharts', [key], {});\n",
              "      } catch (error) {\n",
              "        console.error('Error during call to suggestCharts:', error);\n",
              "      }\n",
              "      quickchartButtonEl.classList.remove('colab-df-spinner');\n",
              "      quickchartButtonEl.classList.add('colab-df-quickchart-complete');\n",
              "    }\n",
              "    (() => {\n",
              "      let quickchartButtonEl =\n",
              "        document.querySelector('#df-5c9ebb1e-1deb-4f19-9fcb-fb9365f37e03 button');\n",
              "      quickchartButtonEl.style.display =\n",
              "        google.colab.kernel.accessAllowed ? 'block' : 'none';\n",
              "    })();\n",
              "  </script>\n",
              "</div>\n",
              "\n",
              "    </div>\n",
              "  </div>\n"
            ],
            "application/vnd.google.colaboratory.intrinsic+json": {
              "type": "dataframe",
              "summary": "{\n  \"name\": \"df\",\n  \"rows\": 5,\n  \"fields\": [\n    {\n      \"column\": \"\\uc8fc\\ubb38ID\",\n      \"properties\": {\n        \"dtype\": \"number\",\n        \"std\": 16,\n        \"min\": 3192,\n        \"max\": 3231,\n        \"num_unique_values\": 5,\n        \"samples\": [\n          3192,\n          3231,\n          3193\n        ],\n        \"semantic_type\": \"\",\n        \"description\": \"\"\n      }\n    },\n    {\n      \"column\": \"\\uc8fc\\ubb38\\ub0a0\\uc9dc\",\n      \"properties\": {\n        \"dtype\": \"date\",\n        \"min\": \"2010-03-07 00:00:00\",\n        \"max\": \"2010-03-08 00:00:00\",\n        \"num_unique_values\": 2,\n        \"samples\": [\n          \"2010-03-07 00:00:00\",\n          \"2010-03-08 00:00:00\"\n        ],\n        \"semantic_type\": \"\",\n        \"description\": \"\"\n      }\n    },\n    {\n      \"column\": \"\\uace0\\uac1dID\",\n      \"properties\": {\n        \"dtype\": \"number\",\n        \"std\": 1116,\n        \"min\": 393616,\n        \"max\": 396551,\n        \"num_unique_values\": 5,\n        \"samples\": [\n          394290,\n          396551\n        ],\n        \"semantic_type\": \"\",\n        \"description\": \"\"\n      }\n    },\n    {\n      \"column\": \"\\ucd1d\\uccad\\uad6c\\uc561\",\n      \"properties\": {\n        \"dtype\": \"number\",\n        \"std\": 43.04565054741304,\n        \"min\": 14.21,\n        \"max\": 127.28,\n        \"num_unique_values\": 5,\n        \"samples\": [\n          45.43,\n          127.28\n        ],\n        \"semantic_type\": \"\",\n        \"description\": \"\"\n      }\n    },\n    {\n      \"column\": \"\\ud53d\\uc5c5ID\",\n      \"properties\": {\n        \"dtype\": \"number\",\n        \"std\": 5,\n        \"min\": 3,\n        \"max\": 15,\n        \"num_unique_values\": 4,\n        \"samples\": [\n          12,\n          3\n        ],\n        \"semantic_type\": \"\",\n        \"description\": \"\"\n      }\n    },\n    {\n      \"column\": \"\\ud53d\\uc5c5\\ub0a0\\uc9dc\",\n      \"properties\": {\n        \"dtype\": \"date\",\n        \"min\": \"2010-03-08 00:00:00\",\n        \"max\": \"2010-03-10 00:00:00\",\n        \"num_unique_values\": 3,\n        \"samples\": [\n          \"2010-03-08 00:00:00\",\n          \"2010-03-10 00:00:00\"\n        ],\n        \"semantic_type\": \"\",\n        \"description\": \"\"\n      }\n    }\n  ]\n}"
            }
          },
          "metadata": {},
          "execution_count": 7
        }
      ]
    },
    {
      "cell_type": "code",
      "source": [
        "# 데이터 변수명 확인\n",
        "df.columns"
      ],
      "metadata": {
        "colab": {
          "base_uri": "https://localhost:8080/"
        },
        "id": "RTz74349C2sy",
        "outputId": "cb1db079-cd37-42d5-f365-5126bb8d8c9a"
      },
      "execution_count": null,
      "outputs": [
        {
          "output_type": "execute_result",
          "data": {
            "text/plain": [
              "Index(['주문ID', '주문날짜', '고객ID', '총청구액', '픽업ID', '픽업날짜'], dtype='object')"
            ]
          },
          "metadata": {},
          "execution_count": 8
        }
      ]
    },
    {
      "cell_type": "code",
      "source": [
        "# 데이터 정보 확인\n",
        "df.info()"
      ],
      "metadata": {
        "colab": {
          "base_uri": "https://localhost:8080/"
        },
        "id": "bOn7u-yvC2qQ",
        "outputId": "9674ca6d-2a95-41d8-a9e2-9b578f8c68ce"
      },
      "execution_count": null,
      "outputs": [
        {
          "output_type": "stream",
          "name": "stdout",
          "text": [
            "<class 'pandas.core.frame.DataFrame'>\n",
            "RangeIndex: 2891 entries, 0 to 2890\n",
            "Data columns (total 6 columns):\n",
            " #   Column  Non-Null Count  Dtype         \n",
            "---  ------  --------------  -----         \n",
            " 0   주문ID    2891 non-null   int64         \n",
            " 1   주문날짜    2891 non-null   datetime64[ns]\n",
            " 2   고객ID    2891 non-null   int64         \n",
            " 3   총청구액    2891 non-null   float64       \n",
            " 4   픽업ID    2891 non-null   int64         \n",
            " 5   픽업날짜    2891 non-null   datetime64[ns]\n",
            "dtypes: datetime64[ns](2), float64(1), int64(3)\n",
            "memory usage: 135.6 KB\n"
          ]
        }
      ]
    },
    {
      "cell_type": "code",
      "source": [
        "# 데이터 타입 확인\n",
        "df.dtypes"
      ],
      "metadata": {
        "colab": {
          "base_uri": "https://localhost:8080/",
          "height": 272
        },
        "id": "puosUg0zC2n8",
        "outputId": "8f6a0dd8-4591-4736-9859-037ce11fd699"
      },
      "execution_count": null,
      "outputs": [
        {
          "output_type": "execute_result",
          "data": {
            "text/plain": [
              "주문ID             int64\n",
              "주문날짜    datetime64[ns]\n",
              "고객ID             int64\n",
              "총청구액           float64\n",
              "픽업ID             int64\n",
              "픽업날짜    datetime64[ns]\n",
              "dtype: object"
            ],
            "text/html": [
              "<div>\n",
              "<style scoped>\n",
              "    .dataframe tbody tr th:only-of-type {\n",
              "        vertical-align: middle;\n",
              "    }\n",
              "\n",
              "    .dataframe tbody tr th {\n",
              "        vertical-align: top;\n",
              "    }\n",
              "\n",
              "    .dataframe thead th {\n",
              "        text-align: right;\n",
              "    }\n",
              "</style>\n",
              "<table border=\"1\" class=\"dataframe\">\n",
              "  <thead>\n",
              "    <tr style=\"text-align: right;\">\n",
              "      <th></th>\n",
              "      <th>0</th>\n",
              "    </tr>\n",
              "  </thead>\n",
              "  <tbody>\n",
              "    <tr>\n",
              "      <th>주문ID</th>\n",
              "      <td>int64</td>\n",
              "    </tr>\n",
              "    <tr>\n",
              "      <th>주문날짜</th>\n",
              "      <td>datetime64[ns]</td>\n",
              "    </tr>\n",
              "    <tr>\n",
              "      <th>고객ID</th>\n",
              "      <td>int64</td>\n",
              "    </tr>\n",
              "    <tr>\n",
              "      <th>총청구액</th>\n",
              "      <td>float64</td>\n",
              "    </tr>\n",
              "    <tr>\n",
              "      <th>픽업ID</th>\n",
              "      <td>int64</td>\n",
              "    </tr>\n",
              "    <tr>\n",
              "      <th>픽업날짜</th>\n",
              "      <td>datetime64[ns]</td>\n",
              "    </tr>\n",
              "  </tbody>\n",
              "</table>\n",
              "</div><br><label><b>dtype:</b> object</label>"
            ]
          },
          "metadata": {},
          "execution_count": 10
        }
      ]
    },
    {
      "cell_type": "code",
      "source": [
        "# 총청구액 변수의 평균값 확인\n",
        "df['총청구액'].mean()"
      ],
      "metadata": {
        "colab": {
          "base_uri": "https://localhost:8080/"
        },
        "id": "5K2Xn58sC90y",
        "outputId": "3427fcd7-c743-443d-99c3-4d3d71844dac"
      },
      "execution_count": null,
      "outputs": [
        {
          "output_type": "execute_result",
          "data": {
            "text/plain": [
              "59.94718426150121"
            ]
          },
          "metadata": {},
          "execution_count": 11
        }
      ]
    },
    {
      "cell_type": "code",
      "source": [
        "# 총청구액 변수의 중앙값 확인\n",
        "df['총청구액'].median()"
      ],
      "metadata": {
        "colab": {
          "base_uri": "https://localhost:8080/"
        },
        "id": "4-c992bbC9yi",
        "outputId": "69578df3-3bc0-412f-daf5-70ccfae52db2"
      },
      "execution_count": null,
      "outputs": [
        {
          "output_type": "execute_result",
          "data": {
            "text/plain": [
              "44.81"
            ]
          },
          "metadata": {},
          "execution_count": 12
        }
      ]
    },
    {
      "cell_type": "code",
      "source": [
        "# 총청구액 변수의 최소값 확인\n",
        "df['총청구액'].min()"
      ],
      "metadata": {
        "id": "JdQ4eDcyViSx",
        "outputId": "2f03a575-63e5-46e5-d499-acc4ad988c15",
        "colab": {
          "base_uri": "https://localhost:8080/"
        }
      },
      "execution_count": null,
      "outputs": [
        {
          "output_type": "execute_result",
          "data": {
            "text/plain": [
              "1.39"
            ]
          },
          "metadata": {},
          "execution_count": 13
        }
      ]
    },
    {
      "cell_type": "code",
      "source": [
        "# 총청구액 변수의 최대값 확인\n",
        "df['총청구액'].max()"
      ],
      "metadata": {
        "colab": {
          "base_uri": "https://localhost:8080/"
        },
        "id": "HBDxBBK4C9wM",
        "outputId": "c18fcccb-52bb-4088-def0-34c404e93e4e"
      },
      "execution_count": null,
      "outputs": [
        {
          "output_type": "execute_result",
          "data": {
            "text/plain": [
              "690.9827"
            ]
          },
          "metadata": {},
          "execution_count": 14
        }
      ]
    },
    {
      "cell_type": "code",
      "source": [
        "# 총청구액 변수의 표준편차 확인\n",
        "df['총청구액'].std()"
      ],
      "metadata": {
        "colab": {
          "base_uri": "https://localhost:8080/"
        },
        "id": "Edm3fZUsC9rI",
        "outputId": "de6436f3-8942-41bf-d33b-722fb00baac7"
      },
      "execution_count": null,
      "outputs": [
        {
          "output_type": "execute_result",
          "data": {
            "text/plain": [
              "55.009949045504435"
            ]
          },
          "metadata": {},
          "execution_count": 15
        }
      ]
    },
    {
      "cell_type": "code",
      "source": [
        "# 총청구액 변수의 개수 확인\n",
        "df['총청구액'].count()"
      ],
      "metadata": {
        "colab": {
          "base_uri": "https://localhost:8080/"
        },
        "id": "WqlVXMxjC2lB",
        "outputId": "c9d35ed4-5d3d-40b5-a01f-9c6eff5e7a3b"
      },
      "execution_count": null,
      "outputs": [
        {
          "output_type": "execute_result",
          "data": {
            "text/plain": [
              "2891"
            ]
          },
          "metadata": {},
          "execution_count": 16
        }
      ]
    },
    {
      "cell_type": "code",
      "source": [
        "# 총청구액 변수 요소별 개수 확인\n",
        "df['총청구액'].value_counts()"
      ],
      "metadata": {
        "colab": {
          "base_uri": "https://localhost:8080/",
          "height": 490
        },
        "id": "2fwFEBGRC1RQ",
        "outputId": "9c9a54af-0ec6-4570-d8fd-ff86250f1294"
      },
      "execution_count": null,
      "outputs": [
        {
          "output_type": "execute_result",
          "data": {
            "text/plain": [
              "총청구액\n",
              "8.01      6\n",
              "79.60     5\n",
              "16.54     4\n",
              "7.36      4\n",
              "95.00     4\n",
              "         ..\n",
              "88.33     1\n",
              "29.76     1\n",
              "106.47    1\n",
              "94.07     1\n",
              "127.28    1\n",
              "Name: count, Length: 2662, dtype: int64"
            ],
            "text/html": [
              "<div>\n",
              "<style scoped>\n",
              "    .dataframe tbody tr th:only-of-type {\n",
              "        vertical-align: middle;\n",
              "    }\n",
              "\n",
              "    .dataframe tbody tr th {\n",
              "        vertical-align: top;\n",
              "    }\n",
              "\n",
              "    .dataframe thead th {\n",
              "        text-align: right;\n",
              "    }\n",
              "</style>\n",
              "<table border=\"1\" class=\"dataframe\">\n",
              "  <thead>\n",
              "    <tr style=\"text-align: right;\">\n",
              "      <th></th>\n",
              "      <th>count</th>\n",
              "    </tr>\n",
              "    <tr>\n",
              "      <th>총청구액</th>\n",
              "      <th></th>\n",
              "    </tr>\n",
              "  </thead>\n",
              "  <tbody>\n",
              "    <tr>\n",
              "      <th>8.01</th>\n",
              "      <td>6</td>\n",
              "    </tr>\n",
              "    <tr>\n",
              "      <th>79.60</th>\n",
              "      <td>5</td>\n",
              "    </tr>\n",
              "    <tr>\n",
              "      <th>16.54</th>\n",
              "      <td>4</td>\n",
              "    </tr>\n",
              "    <tr>\n",
              "      <th>7.36</th>\n",
              "      <td>4</td>\n",
              "    </tr>\n",
              "    <tr>\n",
              "      <th>95.00</th>\n",
              "      <td>4</td>\n",
              "    </tr>\n",
              "    <tr>\n",
              "      <th>...</th>\n",
              "      <td>...</td>\n",
              "    </tr>\n",
              "    <tr>\n",
              "      <th>88.33</th>\n",
              "      <td>1</td>\n",
              "    </tr>\n",
              "    <tr>\n",
              "      <th>29.76</th>\n",
              "      <td>1</td>\n",
              "    </tr>\n",
              "    <tr>\n",
              "      <th>106.47</th>\n",
              "      <td>1</td>\n",
              "    </tr>\n",
              "    <tr>\n",
              "      <th>94.07</th>\n",
              "      <td>1</td>\n",
              "    </tr>\n",
              "    <tr>\n",
              "      <th>127.28</th>\n",
              "      <td>1</td>\n",
              "    </tr>\n",
              "  </tbody>\n",
              "</table>\n",
              "<p>2662 rows × 1 columns</p>\n",
              "</div><br><label><b>dtype:</b> int64</label>"
            ]
          },
          "metadata": {},
          "execution_count": 17
        }
      ]
    },
    {
      "cell_type": "code",
      "source": [
        "# 데이터 기본 기초통계값 확인\n",
        "df.describe()"
      ],
      "metadata": {
        "colab": {
          "base_uri": "https://localhost:8080/",
          "height": 300
        },
        "id": "b1j90brStX_L",
        "outputId": "69f958a8-114b-4058-cdf7-6895c9a9043e"
      },
      "execution_count": null,
      "outputs": [
        {
          "output_type": "execute_result",
          "data": {
            "text/plain": [
              "              주문ID                           주문날짜           고객ID         총청구액  \\\n",
              "count  2891.000000                           2891    2891.000000  2891.000000   \n",
              "mean   1763.644414  2009-10-24 08:57:56.720857856   85586.842269    59.947184   \n",
              "min     256.000000            2009-01-06 00:00:00      47.000000     1.390000   \n",
              "25%    1021.500000            2009-08-07 00:00:00    5534.000000    22.965000   \n",
              "50%    1778.000000            2009-11-15 00:00:00   42270.000000    44.810000   \n",
              "75%    2504.500000            2010-01-26 00:00:00  132044.000000    79.600000   \n",
              "max    3234.000000            2010-03-09 00:00:00  396551.000000   690.982700   \n",
              "std     855.881824                            NaN   96952.929059    55.009949   \n",
              "\n",
              "              픽업ID                           픽업날짜  \n",
              "count  2891.000000                           2891  \n",
              "mean      6.848495  2009-10-25 06:48:56.285022464  \n",
              "min       2.000000            2009-01-06 00:00:00  \n",
              "25%       4.000000            2009-08-07 00:00:00  \n",
              "50%       5.000000            2009-11-16 00:00:00  \n",
              "75%       7.000000            2010-01-27 00:00:00  \n",
              "max      20.000000            2010-03-10 00:00:00  \n",
              "std       4.613567                            NaN  "
            ],
            "text/html": [
              "\n",
              "  <div id=\"df-c9c8fcb1-ec28-48ec-951b-0e1794b142a3\" class=\"colab-df-container\">\n",
              "    <div>\n",
              "<style scoped>\n",
              "    .dataframe tbody tr th:only-of-type {\n",
              "        vertical-align: middle;\n",
              "    }\n",
              "\n",
              "    .dataframe tbody tr th {\n",
              "        vertical-align: top;\n",
              "    }\n",
              "\n",
              "    .dataframe thead th {\n",
              "        text-align: right;\n",
              "    }\n",
              "</style>\n",
              "<table border=\"1\" class=\"dataframe\">\n",
              "  <thead>\n",
              "    <tr style=\"text-align: right;\">\n",
              "      <th></th>\n",
              "      <th>주문ID</th>\n",
              "      <th>주문날짜</th>\n",
              "      <th>고객ID</th>\n",
              "      <th>총청구액</th>\n",
              "      <th>픽업ID</th>\n",
              "      <th>픽업날짜</th>\n",
              "    </tr>\n",
              "  </thead>\n",
              "  <tbody>\n",
              "    <tr>\n",
              "      <th>count</th>\n",
              "      <td>2891.000000</td>\n",
              "      <td>2891</td>\n",
              "      <td>2891.000000</td>\n",
              "      <td>2891.000000</td>\n",
              "      <td>2891.000000</td>\n",
              "      <td>2891</td>\n",
              "    </tr>\n",
              "    <tr>\n",
              "      <th>mean</th>\n",
              "      <td>1763.644414</td>\n",
              "      <td>2009-10-24 08:57:56.720857856</td>\n",
              "      <td>85586.842269</td>\n",
              "      <td>59.947184</td>\n",
              "      <td>6.848495</td>\n",
              "      <td>2009-10-25 06:48:56.285022464</td>\n",
              "    </tr>\n",
              "    <tr>\n",
              "      <th>min</th>\n",
              "      <td>256.000000</td>\n",
              "      <td>2009-01-06 00:00:00</td>\n",
              "      <td>47.000000</td>\n",
              "      <td>1.390000</td>\n",
              "      <td>2.000000</td>\n",
              "      <td>2009-01-06 00:00:00</td>\n",
              "    </tr>\n",
              "    <tr>\n",
              "      <th>25%</th>\n",
              "      <td>1021.500000</td>\n",
              "      <td>2009-08-07 00:00:00</td>\n",
              "      <td>5534.000000</td>\n",
              "      <td>22.965000</td>\n",
              "      <td>4.000000</td>\n",
              "      <td>2009-08-07 00:00:00</td>\n",
              "    </tr>\n",
              "    <tr>\n",
              "      <th>50%</th>\n",
              "      <td>1778.000000</td>\n",
              "      <td>2009-11-15 00:00:00</td>\n",
              "      <td>42270.000000</td>\n",
              "      <td>44.810000</td>\n",
              "      <td>5.000000</td>\n",
              "      <td>2009-11-16 00:00:00</td>\n",
              "    </tr>\n",
              "    <tr>\n",
              "      <th>75%</th>\n",
              "      <td>2504.500000</td>\n",
              "      <td>2010-01-26 00:00:00</td>\n",
              "      <td>132044.000000</td>\n",
              "      <td>79.600000</td>\n",
              "      <td>7.000000</td>\n",
              "      <td>2010-01-27 00:00:00</td>\n",
              "    </tr>\n",
              "    <tr>\n",
              "      <th>max</th>\n",
              "      <td>3234.000000</td>\n",
              "      <td>2010-03-09 00:00:00</td>\n",
              "      <td>396551.000000</td>\n",
              "      <td>690.982700</td>\n",
              "      <td>20.000000</td>\n",
              "      <td>2010-03-10 00:00:00</td>\n",
              "    </tr>\n",
              "    <tr>\n",
              "      <th>std</th>\n",
              "      <td>855.881824</td>\n",
              "      <td>NaN</td>\n",
              "      <td>96952.929059</td>\n",
              "      <td>55.009949</td>\n",
              "      <td>4.613567</td>\n",
              "      <td>NaN</td>\n",
              "    </tr>\n",
              "  </tbody>\n",
              "</table>\n",
              "</div>\n",
              "    <div class=\"colab-df-buttons\">\n",
              "\n",
              "  <div class=\"colab-df-container\">\n",
              "    <button class=\"colab-df-convert\" onclick=\"convertToInteractive('df-c9c8fcb1-ec28-48ec-951b-0e1794b142a3')\"\n",
              "            title=\"Convert this dataframe to an interactive table.\"\n",
              "            style=\"display:none;\">\n",
              "\n",
              "  <svg xmlns=\"http://www.w3.org/2000/svg\" height=\"24px\" viewBox=\"0 -960 960 960\">\n",
              "    <path d=\"M120-120v-720h720v720H120Zm60-500h600v-160H180v160Zm220 220h160v-160H400v160Zm0 220h160v-160H400v160ZM180-400h160v-160H180v160Zm440 0h160v-160H620v160ZM180-180h160v-160H180v160Zm440 0h160v-160H620v160Z\"/>\n",
              "  </svg>\n",
              "    </button>\n",
              "\n",
              "  <style>\n",
              "    .colab-df-container {\n",
              "      display:flex;\n",
              "      gap: 12px;\n",
              "    }\n",
              "\n",
              "    .colab-df-convert {\n",
              "      background-color: #E8F0FE;\n",
              "      border: none;\n",
              "      border-radius: 50%;\n",
              "      cursor: pointer;\n",
              "      display: none;\n",
              "      fill: #1967D2;\n",
              "      height: 32px;\n",
              "      padding: 0 0 0 0;\n",
              "      width: 32px;\n",
              "    }\n",
              "\n",
              "    .colab-df-convert:hover {\n",
              "      background-color: #E2EBFA;\n",
              "      box-shadow: 0px 1px 2px rgba(60, 64, 67, 0.3), 0px 1px 3px 1px rgba(60, 64, 67, 0.15);\n",
              "      fill: #174EA6;\n",
              "    }\n",
              "\n",
              "    .colab-df-buttons div {\n",
              "      margin-bottom: 4px;\n",
              "    }\n",
              "\n",
              "    [theme=dark] .colab-df-convert {\n",
              "      background-color: #3B4455;\n",
              "      fill: #D2E3FC;\n",
              "    }\n",
              "\n",
              "    [theme=dark] .colab-df-convert:hover {\n",
              "      background-color: #434B5C;\n",
              "      box-shadow: 0px 1px 3px 1px rgba(0, 0, 0, 0.15);\n",
              "      filter: drop-shadow(0px 1px 2px rgba(0, 0, 0, 0.3));\n",
              "      fill: #FFFFFF;\n",
              "    }\n",
              "  </style>\n",
              "\n",
              "    <script>\n",
              "      const buttonEl =\n",
              "        document.querySelector('#df-c9c8fcb1-ec28-48ec-951b-0e1794b142a3 button.colab-df-convert');\n",
              "      buttonEl.style.display =\n",
              "        google.colab.kernel.accessAllowed ? 'block' : 'none';\n",
              "\n",
              "      async function convertToInteractive(key) {\n",
              "        const element = document.querySelector('#df-c9c8fcb1-ec28-48ec-951b-0e1794b142a3');\n",
              "        const dataTable =\n",
              "          await google.colab.kernel.invokeFunction('convertToInteractive',\n",
              "                                                    [key], {});\n",
              "        if (!dataTable) return;\n",
              "\n",
              "        const docLinkHtml = 'Like what you see? Visit the ' +\n",
              "          '<a target=\"_blank\" href=https://colab.research.google.com/notebooks/data_table.ipynb>data table notebook</a>'\n",
              "          + ' to learn more about interactive tables.';\n",
              "        element.innerHTML = '';\n",
              "        dataTable['output_type'] = 'display_data';\n",
              "        await google.colab.output.renderOutput(dataTable, element);\n",
              "        const docLink = document.createElement('div');\n",
              "        docLink.innerHTML = docLinkHtml;\n",
              "        element.appendChild(docLink);\n",
              "      }\n",
              "    </script>\n",
              "  </div>\n",
              "\n",
              "\n",
              "<div id=\"df-025c6c9e-eeb5-4654-a1e1-e7521a0c9189\">\n",
              "  <button class=\"colab-df-quickchart\" onclick=\"quickchart('df-025c6c9e-eeb5-4654-a1e1-e7521a0c9189')\"\n",
              "            title=\"Suggest charts\"\n",
              "            style=\"display:none;\">\n",
              "\n",
              "<svg xmlns=\"http://www.w3.org/2000/svg\" height=\"24px\"viewBox=\"0 0 24 24\"\n",
              "     width=\"24px\">\n",
              "    <g>\n",
              "        <path d=\"M19 3H5c-1.1 0-2 .9-2 2v14c0 1.1.9 2 2 2h14c1.1 0 2-.9 2-2V5c0-1.1-.9-2-2-2zM9 17H7v-7h2v7zm4 0h-2V7h2v10zm4 0h-2v-4h2v4z\"/>\n",
              "    </g>\n",
              "</svg>\n",
              "  </button>\n",
              "\n",
              "<style>\n",
              "  .colab-df-quickchart {\n",
              "      --bg-color: #E8F0FE;\n",
              "      --fill-color: #1967D2;\n",
              "      --hover-bg-color: #E2EBFA;\n",
              "      --hover-fill-color: #174EA6;\n",
              "      --disabled-fill-color: #AAA;\n",
              "      --disabled-bg-color: #DDD;\n",
              "  }\n",
              "\n",
              "  [theme=dark] .colab-df-quickchart {\n",
              "      --bg-color: #3B4455;\n",
              "      --fill-color: #D2E3FC;\n",
              "      --hover-bg-color: #434B5C;\n",
              "      --hover-fill-color: #FFFFFF;\n",
              "      --disabled-bg-color: #3B4455;\n",
              "      --disabled-fill-color: #666;\n",
              "  }\n",
              "\n",
              "  .colab-df-quickchart {\n",
              "    background-color: var(--bg-color);\n",
              "    border: none;\n",
              "    border-radius: 50%;\n",
              "    cursor: pointer;\n",
              "    display: none;\n",
              "    fill: var(--fill-color);\n",
              "    height: 32px;\n",
              "    padding: 0;\n",
              "    width: 32px;\n",
              "  }\n",
              "\n",
              "  .colab-df-quickchart:hover {\n",
              "    background-color: var(--hover-bg-color);\n",
              "    box-shadow: 0 1px 2px rgba(60, 64, 67, 0.3), 0 1px 3px 1px rgba(60, 64, 67, 0.15);\n",
              "    fill: var(--button-hover-fill-color);\n",
              "  }\n",
              "\n",
              "  .colab-df-quickchart-complete:disabled,\n",
              "  .colab-df-quickchart-complete:disabled:hover {\n",
              "    background-color: var(--disabled-bg-color);\n",
              "    fill: var(--disabled-fill-color);\n",
              "    box-shadow: none;\n",
              "  }\n",
              "\n",
              "  .colab-df-spinner {\n",
              "    border: 2px solid var(--fill-color);\n",
              "    border-color: transparent;\n",
              "    border-bottom-color: var(--fill-color);\n",
              "    animation:\n",
              "      spin 1s steps(1) infinite;\n",
              "  }\n",
              "\n",
              "  @keyframes spin {\n",
              "    0% {\n",
              "      border-color: transparent;\n",
              "      border-bottom-color: var(--fill-color);\n",
              "      border-left-color: var(--fill-color);\n",
              "    }\n",
              "    20% {\n",
              "      border-color: transparent;\n",
              "      border-left-color: var(--fill-color);\n",
              "      border-top-color: var(--fill-color);\n",
              "    }\n",
              "    30% {\n",
              "      border-color: transparent;\n",
              "      border-left-color: var(--fill-color);\n",
              "      border-top-color: var(--fill-color);\n",
              "      border-right-color: var(--fill-color);\n",
              "    }\n",
              "    40% {\n",
              "      border-color: transparent;\n",
              "      border-right-color: var(--fill-color);\n",
              "      border-top-color: var(--fill-color);\n",
              "    }\n",
              "    60% {\n",
              "      border-color: transparent;\n",
              "      border-right-color: var(--fill-color);\n",
              "    }\n",
              "    80% {\n",
              "      border-color: transparent;\n",
              "      border-right-color: var(--fill-color);\n",
              "      border-bottom-color: var(--fill-color);\n",
              "    }\n",
              "    90% {\n",
              "      border-color: transparent;\n",
              "      border-bottom-color: var(--fill-color);\n",
              "    }\n",
              "  }\n",
              "</style>\n",
              "\n",
              "  <script>\n",
              "    async function quickchart(key) {\n",
              "      const quickchartButtonEl =\n",
              "        document.querySelector('#' + key + ' button');\n",
              "      quickchartButtonEl.disabled = true;  // To prevent multiple clicks.\n",
              "      quickchartButtonEl.classList.add('colab-df-spinner');\n",
              "      try {\n",
              "        const charts = await google.colab.kernel.invokeFunction(\n",
              "            'suggestCharts', [key], {});\n",
              "      } catch (error) {\n",
              "        console.error('Error during call to suggestCharts:', error);\n",
              "      }\n",
              "      quickchartButtonEl.classList.remove('colab-df-spinner');\n",
              "      quickchartButtonEl.classList.add('colab-df-quickchart-complete');\n",
              "    }\n",
              "    (() => {\n",
              "      let quickchartButtonEl =\n",
              "        document.querySelector('#df-025c6c9e-eeb5-4654-a1e1-e7521a0c9189 button');\n",
              "      quickchartButtonEl.style.display =\n",
              "        google.colab.kernel.accessAllowed ? 'block' : 'none';\n",
              "    })();\n",
              "  </script>\n",
              "</div>\n",
              "\n",
              "    </div>\n",
              "  </div>\n"
            ],
            "application/vnd.google.colaboratory.intrinsic+json": {
              "type": "dataframe",
              "summary": "{\n  \"name\": \"df\",\n  \"rows\": 8,\n  \"fields\": [\n    {\n      \"column\": \"\\uc8fc\\ubb38ID\",\n      \"properties\": {\n        \"dtype\": \"number\",\n        \"std\": 1043.687210502994,\n        \"min\": 256.0,\n        \"max\": 3234.0,\n        \"num_unique_values\": 8,\n        \"samples\": [\n          1763.6444136976825,\n          2504.5,\n          2891.0\n        ],\n        \"semantic_type\": \"\",\n        \"description\": \"\"\n      }\n    },\n    {\n      \"column\": \"\\uc8fc\\ubb38\\ub0a0\\uc9dc\",\n      \"properties\": {\n        \"dtype\": \"date\",\n        \"min\": \"1970-01-01 00:00:00.000002891\",\n        \"max\": \"2010-03-09 00:00:00\",\n        \"num_unique_values\": 7,\n        \"samples\": [\n          \"2891\",\n          \"2009-10-24 08:57:56.720857856\",\n          \"2010-01-26 00:00:00\"\n        ],\n        \"semantic_type\": \"\",\n        \"description\": \"\"\n      }\n    },\n    {\n      \"column\": \"\\uace0\\uac1dID\",\n      \"properties\": {\n        \"dtype\": \"number\",\n        \"std\": 131302.2700649965,\n        \"min\": 47.0,\n        \"max\": 396551.0,\n        \"num_unique_values\": 8,\n        \"samples\": [\n          85586.84226911103,\n          132044.0,\n          2891.0\n        ],\n        \"semantic_type\": \"\",\n        \"description\": \"\"\n      }\n    },\n    {\n      \"column\": \"\\ucd1d\\uccad\\uad6c\\uc561\",\n      \"properties\": {\n        \"dtype\": \"number\",\n        \"std\": 1000.1535998038397,\n        \"min\": 1.39,\n        \"max\": 2891.0,\n        \"num_unique_values\": 8,\n        \"samples\": [\n          59.94718426150121,\n          79.6,\n          2891.0\n        ],\n        \"semantic_type\": \"\",\n        \"description\": \"\"\n      }\n    },\n    {\n      \"column\": \"\\ud53d\\uc5c5ID\",\n      \"properties\": {\n        \"dtype\": \"number\",\n        \"std\": 1019.6395402767827,\n        \"min\": 2.0,\n        \"max\": 2891.0,\n        \"num_unique_values\": 8,\n        \"samples\": [\n          6.848495330335524,\n          7.0,\n          2891.0\n        ],\n        \"semantic_type\": \"\",\n        \"description\": \"\"\n      }\n    },\n    {\n      \"column\": \"\\ud53d\\uc5c5\\ub0a0\\uc9dc\",\n      \"properties\": {\n        \"dtype\": \"date\",\n        \"min\": \"1970-01-01 00:00:00.000002891\",\n        \"max\": \"2010-03-10 00:00:00\",\n        \"num_unique_values\": 7,\n        \"samples\": [\n          \"2891\",\n          \"2009-10-25 06:48:56.285022464\",\n          \"2010-01-27 00:00:00\"\n        ],\n        \"semantic_type\": \"\",\n        \"description\": \"\"\n      }\n    }\n  ]\n}"
            }
          },
          "metadata": {},
          "execution_count": 18
        }
      ]
    },
    {
      "cell_type": "code",
      "source": [
        "# 데이터 모든 기초통계값 확인(include='all')\n",
        "df.describe(include='all')"
      ],
      "metadata": {
        "colab": {
          "base_uri": "https://localhost:8080/",
          "height": 300
        },
        "id": "k7r2ao7VprmG",
        "outputId": "53081b22-edec-4d11-d236-33e9d0639ed8"
      },
      "execution_count": null,
      "outputs": [
        {
          "output_type": "execute_result",
          "data": {
            "text/plain": [
              "              주문ID                           주문날짜           고객ID         총청구액  \\\n",
              "count  2891.000000                           2891    2891.000000  2891.000000   \n",
              "mean   1763.644414  2009-10-24 08:57:56.720857856   85586.842269    59.947184   \n",
              "min     256.000000            2009-01-06 00:00:00      47.000000     1.390000   \n",
              "25%    1021.500000            2009-08-07 00:00:00    5534.000000    22.965000   \n",
              "50%    1778.000000            2009-11-15 00:00:00   42270.000000    44.810000   \n",
              "75%    2504.500000            2010-01-26 00:00:00  132044.000000    79.600000   \n",
              "max    3234.000000            2010-03-09 00:00:00  396551.000000   690.982700   \n",
              "std     855.881824                            NaN   96952.929059    55.009949   \n",
              "\n",
              "              픽업ID                           픽업날짜  \n",
              "count  2891.000000                           2891  \n",
              "mean      6.848495  2009-10-25 06:48:56.285022464  \n",
              "min       2.000000            2009-01-06 00:00:00  \n",
              "25%       4.000000            2009-08-07 00:00:00  \n",
              "50%       5.000000            2009-11-16 00:00:00  \n",
              "75%       7.000000            2010-01-27 00:00:00  \n",
              "max      20.000000            2010-03-10 00:00:00  \n",
              "std       4.613567                            NaN  "
            ],
            "text/html": [
              "\n",
              "  <div id=\"df-df250902-3946-4bad-811c-87b5055f2baa\" class=\"colab-df-container\">\n",
              "    <div>\n",
              "<style scoped>\n",
              "    .dataframe tbody tr th:only-of-type {\n",
              "        vertical-align: middle;\n",
              "    }\n",
              "\n",
              "    .dataframe tbody tr th {\n",
              "        vertical-align: top;\n",
              "    }\n",
              "\n",
              "    .dataframe thead th {\n",
              "        text-align: right;\n",
              "    }\n",
              "</style>\n",
              "<table border=\"1\" class=\"dataframe\">\n",
              "  <thead>\n",
              "    <tr style=\"text-align: right;\">\n",
              "      <th></th>\n",
              "      <th>주문ID</th>\n",
              "      <th>주문날짜</th>\n",
              "      <th>고객ID</th>\n",
              "      <th>총청구액</th>\n",
              "      <th>픽업ID</th>\n",
              "      <th>픽업날짜</th>\n",
              "    </tr>\n",
              "  </thead>\n",
              "  <tbody>\n",
              "    <tr>\n",
              "      <th>count</th>\n",
              "      <td>2891.000000</td>\n",
              "      <td>2891</td>\n",
              "      <td>2891.000000</td>\n",
              "      <td>2891.000000</td>\n",
              "      <td>2891.000000</td>\n",
              "      <td>2891</td>\n",
              "    </tr>\n",
              "    <tr>\n",
              "      <th>mean</th>\n",
              "      <td>1763.644414</td>\n",
              "      <td>2009-10-24 08:57:56.720857856</td>\n",
              "      <td>85586.842269</td>\n",
              "      <td>59.947184</td>\n",
              "      <td>6.848495</td>\n",
              "      <td>2009-10-25 06:48:56.285022464</td>\n",
              "    </tr>\n",
              "    <tr>\n",
              "      <th>min</th>\n",
              "      <td>256.000000</td>\n",
              "      <td>2009-01-06 00:00:00</td>\n",
              "      <td>47.000000</td>\n",
              "      <td>1.390000</td>\n",
              "      <td>2.000000</td>\n",
              "      <td>2009-01-06 00:00:00</td>\n",
              "    </tr>\n",
              "    <tr>\n",
              "      <th>25%</th>\n",
              "      <td>1021.500000</td>\n",
              "      <td>2009-08-07 00:00:00</td>\n",
              "      <td>5534.000000</td>\n",
              "      <td>22.965000</td>\n",
              "      <td>4.000000</td>\n",
              "      <td>2009-08-07 00:00:00</td>\n",
              "    </tr>\n",
              "    <tr>\n",
              "      <th>50%</th>\n",
              "      <td>1778.000000</td>\n",
              "      <td>2009-11-15 00:00:00</td>\n",
              "      <td>42270.000000</td>\n",
              "      <td>44.810000</td>\n",
              "      <td>5.000000</td>\n",
              "      <td>2009-11-16 00:00:00</td>\n",
              "    </tr>\n",
              "    <tr>\n",
              "      <th>75%</th>\n",
              "      <td>2504.500000</td>\n",
              "      <td>2010-01-26 00:00:00</td>\n",
              "      <td>132044.000000</td>\n",
              "      <td>79.600000</td>\n",
              "      <td>7.000000</td>\n",
              "      <td>2010-01-27 00:00:00</td>\n",
              "    </tr>\n",
              "    <tr>\n",
              "      <th>max</th>\n",
              "      <td>3234.000000</td>\n",
              "      <td>2010-03-09 00:00:00</td>\n",
              "      <td>396551.000000</td>\n",
              "      <td>690.982700</td>\n",
              "      <td>20.000000</td>\n",
              "      <td>2010-03-10 00:00:00</td>\n",
              "    </tr>\n",
              "    <tr>\n",
              "      <th>std</th>\n",
              "      <td>855.881824</td>\n",
              "      <td>NaN</td>\n",
              "      <td>96952.929059</td>\n",
              "      <td>55.009949</td>\n",
              "      <td>4.613567</td>\n",
              "      <td>NaN</td>\n",
              "    </tr>\n",
              "  </tbody>\n",
              "</table>\n",
              "</div>\n",
              "    <div class=\"colab-df-buttons\">\n",
              "\n",
              "  <div class=\"colab-df-container\">\n",
              "    <button class=\"colab-df-convert\" onclick=\"convertToInteractive('df-df250902-3946-4bad-811c-87b5055f2baa')\"\n",
              "            title=\"Convert this dataframe to an interactive table.\"\n",
              "            style=\"display:none;\">\n",
              "\n",
              "  <svg xmlns=\"http://www.w3.org/2000/svg\" height=\"24px\" viewBox=\"0 -960 960 960\">\n",
              "    <path d=\"M120-120v-720h720v720H120Zm60-500h600v-160H180v160Zm220 220h160v-160H400v160Zm0 220h160v-160H400v160ZM180-400h160v-160H180v160Zm440 0h160v-160H620v160ZM180-180h160v-160H180v160Zm440 0h160v-160H620v160Z\"/>\n",
              "  </svg>\n",
              "    </button>\n",
              "\n",
              "  <style>\n",
              "    .colab-df-container {\n",
              "      display:flex;\n",
              "      gap: 12px;\n",
              "    }\n",
              "\n",
              "    .colab-df-convert {\n",
              "      background-color: #E8F0FE;\n",
              "      border: none;\n",
              "      border-radius: 50%;\n",
              "      cursor: pointer;\n",
              "      display: none;\n",
              "      fill: #1967D2;\n",
              "      height: 32px;\n",
              "      padding: 0 0 0 0;\n",
              "      width: 32px;\n",
              "    }\n",
              "\n",
              "    .colab-df-convert:hover {\n",
              "      background-color: #E2EBFA;\n",
              "      box-shadow: 0px 1px 2px rgba(60, 64, 67, 0.3), 0px 1px 3px 1px rgba(60, 64, 67, 0.15);\n",
              "      fill: #174EA6;\n",
              "    }\n",
              "\n",
              "    .colab-df-buttons div {\n",
              "      margin-bottom: 4px;\n",
              "    }\n",
              "\n",
              "    [theme=dark] .colab-df-convert {\n",
              "      background-color: #3B4455;\n",
              "      fill: #D2E3FC;\n",
              "    }\n",
              "\n",
              "    [theme=dark] .colab-df-convert:hover {\n",
              "      background-color: #434B5C;\n",
              "      box-shadow: 0px 1px 3px 1px rgba(0, 0, 0, 0.15);\n",
              "      filter: drop-shadow(0px 1px 2px rgba(0, 0, 0, 0.3));\n",
              "      fill: #FFFFFF;\n",
              "    }\n",
              "  </style>\n",
              "\n",
              "    <script>\n",
              "      const buttonEl =\n",
              "        document.querySelector('#df-df250902-3946-4bad-811c-87b5055f2baa button.colab-df-convert');\n",
              "      buttonEl.style.display =\n",
              "        google.colab.kernel.accessAllowed ? 'block' : 'none';\n",
              "\n",
              "      async function convertToInteractive(key) {\n",
              "        const element = document.querySelector('#df-df250902-3946-4bad-811c-87b5055f2baa');\n",
              "        const dataTable =\n",
              "          await google.colab.kernel.invokeFunction('convertToInteractive',\n",
              "                                                    [key], {});\n",
              "        if (!dataTable) return;\n",
              "\n",
              "        const docLinkHtml = 'Like what you see? Visit the ' +\n",
              "          '<a target=\"_blank\" href=https://colab.research.google.com/notebooks/data_table.ipynb>data table notebook</a>'\n",
              "          + ' to learn more about interactive tables.';\n",
              "        element.innerHTML = '';\n",
              "        dataTable['output_type'] = 'display_data';\n",
              "        await google.colab.output.renderOutput(dataTable, element);\n",
              "        const docLink = document.createElement('div');\n",
              "        docLink.innerHTML = docLinkHtml;\n",
              "        element.appendChild(docLink);\n",
              "      }\n",
              "    </script>\n",
              "  </div>\n",
              "\n",
              "\n",
              "<div id=\"df-a83d8436-8d9f-4065-9403-dbdc456d9ede\">\n",
              "  <button class=\"colab-df-quickchart\" onclick=\"quickchart('df-a83d8436-8d9f-4065-9403-dbdc456d9ede')\"\n",
              "            title=\"Suggest charts\"\n",
              "            style=\"display:none;\">\n",
              "\n",
              "<svg xmlns=\"http://www.w3.org/2000/svg\" height=\"24px\"viewBox=\"0 0 24 24\"\n",
              "     width=\"24px\">\n",
              "    <g>\n",
              "        <path d=\"M19 3H5c-1.1 0-2 .9-2 2v14c0 1.1.9 2 2 2h14c1.1 0 2-.9 2-2V5c0-1.1-.9-2-2-2zM9 17H7v-7h2v7zm4 0h-2V7h2v10zm4 0h-2v-4h2v4z\"/>\n",
              "    </g>\n",
              "</svg>\n",
              "  </button>\n",
              "\n",
              "<style>\n",
              "  .colab-df-quickchart {\n",
              "      --bg-color: #E8F0FE;\n",
              "      --fill-color: #1967D2;\n",
              "      --hover-bg-color: #E2EBFA;\n",
              "      --hover-fill-color: #174EA6;\n",
              "      --disabled-fill-color: #AAA;\n",
              "      --disabled-bg-color: #DDD;\n",
              "  }\n",
              "\n",
              "  [theme=dark] .colab-df-quickchart {\n",
              "      --bg-color: #3B4455;\n",
              "      --fill-color: #D2E3FC;\n",
              "      --hover-bg-color: #434B5C;\n",
              "      --hover-fill-color: #FFFFFF;\n",
              "      --disabled-bg-color: #3B4455;\n",
              "      --disabled-fill-color: #666;\n",
              "  }\n",
              "\n",
              "  .colab-df-quickchart {\n",
              "    background-color: var(--bg-color);\n",
              "    border: none;\n",
              "    border-radius: 50%;\n",
              "    cursor: pointer;\n",
              "    display: none;\n",
              "    fill: var(--fill-color);\n",
              "    height: 32px;\n",
              "    padding: 0;\n",
              "    width: 32px;\n",
              "  }\n",
              "\n",
              "  .colab-df-quickchart:hover {\n",
              "    background-color: var(--hover-bg-color);\n",
              "    box-shadow: 0 1px 2px rgba(60, 64, 67, 0.3), 0 1px 3px 1px rgba(60, 64, 67, 0.15);\n",
              "    fill: var(--button-hover-fill-color);\n",
              "  }\n",
              "\n",
              "  .colab-df-quickchart-complete:disabled,\n",
              "  .colab-df-quickchart-complete:disabled:hover {\n",
              "    background-color: var(--disabled-bg-color);\n",
              "    fill: var(--disabled-fill-color);\n",
              "    box-shadow: none;\n",
              "  }\n",
              "\n",
              "  .colab-df-spinner {\n",
              "    border: 2px solid var(--fill-color);\n",
              "    border-color: transparent;\n",
              "    border-bottom-color: var(--fill-color);\n",
              "    animation:\n",
              "      spin 1s steps(1) infinite;\n",
              "  }\n",
              "\n",
              "  @keyframes spin {\n",
              "    0% {\n",
              "      border-color: transparent;\n",
              "      border-bottom-color: var(--fill-color);\n",
              "      border-left-color: var(--fill-color);\n",
              "    }\n",
              "    20% {\n",
              "      border-color: transparent;\n",
              "      border-left-color: var(--fill-color);\n",
              "      border-top-color: var(--fill-color);\n",
              "    }\n",
              "    30% {\n",
              "      border-color: transparent;\n",
              "      border-left-color: var(--fill-color);\n",
              "      border-top-color: var(--fill-color);\n",
              "      border-right-color: var(--fill-color);\n",
              "    }\n",
              "    40% {\n",
              "      border-color: transparent;\n",
              "      border-right-color: var(--fill-color);\n",
              "      border-top-color: var(--fill-color);\n",
              "    }\n",
              "    60% {\n",
              "      border-color: transparent;\n",
              "      border-right-color: var(--fill-color);\n",
              "    }\n",
              "    80% {\n",
              "      border-color: transparent;\n",
              "      border-right-color: var(--fill-color);\n",
              "      border-bottom-color: var(--fill-color);\n",
              "    }\n",
              "    90% {\n",
              "      border-color: transparent;\n",
              "      border-bottom-color: var(--fill-color);\n",
              "    }\n",
              "  }\n",
              "</style>\n",
              "\n",
              "  <script>\n",
              "    async function quickchart(key) {\n",
              "      const quickchartButtonEl =\n",
              "        document.querySelector('#' + key + ' button');\n",
              "      quickchartButtonEl.disabled = true;  // To prevent multiple clicks.\n",
              "      quickchartButtonEl.classList.add('colab-df-spinner');\n",
              "      try {\n",
              "        const charts = await google.colab.kernel.invokeFunction(\n",
              "            'suggestCharts', [key], {});\n",
              "      } catch (error) {\n",
              "        console.error('Error during call to suggestCharts:', error);\n",
              "      }\n",
              "      quickchartButtonEl.classList.remove('colab-df-spinner');\n",
              "      quickchartButtonEl.classList.add('colab-df-quickchart-complete');\n",
              "    }\n",
              "    (() => {\n",
              "      let quickchartButtonEl =\n",
              "        document.querySelector('#df-a83d8436-8d9f-4065-9403-dbdc456d9ede button');\n",
              "      quickchartButtonEl.style.display =\n",
              "        google.colab.kernel.accessAllowed ? 'block' : 'none';\n",
              "    })();\n",
              "  </script>\n",
              "</div>\n",
              "\n",
              "    </div>\n",
              "  </div>\n"
            ],
            "application/vnd.google.colaboratory.intrinsic+json": {
              "type": "dataframe",
              "summary": "{\n  \"name\": \"df\",\n  \"rows\": 8,\n  \"fields\": [\n    {\n      \"column\": \"\\uc8fc\\ubb38ID\",\n      \"properties\": {\n        \"dtype\": \"number\",\n        \"std\": 1043.687210502994,\n        \"min\": 256.0,\n        \"max\": 3234.0,\n        \"num_unique_values\": 8,\n        \"samples\": [\n          1763.6444136976825,\n          2504.5,\n          2891.0\n        ],\n        \"semantic_type\": \"\",\n        \"description\": \"\"\n      }\n    },\n    {\n      \"column\": \"\\uc8fc\\ubb38\\ub0a0\\uc9dc\",\n      \"properties\": {\n        \"dtype\": \"date\",\n        \"min\": \"1970-01-01 00:00:00.000002891\",\n        \"max\": \"2010-03-09 00:00:00\",\n        \"num_unique_values\": 7,\n        \"samples\": [\n          \"2891\",\n          \"2009-10-24 08:57:56.720857856\",\n          \"2010-01-26 00:00:00\"\n        ],\n        \"semantic_type\": \"\",\n        \"description\": \"\"\n      }\n    },\n    {\n      \"column\": \"\\uace0\\uac1dID\",\n      \"properties\": {\n        \"dtype\": \"number\",\n        \"std\": 131302.2700649965,\n        \"min\": 47.0,\n        \"max\": 396551.0,\n        \"num_unique_values\": 8,\n        \"samples\": [\n          85586.84226911103,\n          132044.0,\n          2891.0\n        ],\n        \"semantic_type\": \"\",\n        \"description\": \"\"\n      }\n    },\n    {\n      \"column\": \"\\ucd1d\\uccad\\uad6c\\uc561\",\n      \"properties\": {\n        \"dtype\": \"number\",\n        \"std\": 1000.1535998038397,\n        \"min\": 1.39,\n        \"max\": 2891.0,\n        \"num_unique_values\": 8,\n        \"samples\": [\n          59.94718426150121,\n          79.6,\n          2891.0\n        ],\n        \"semantic_type\": \"\",\n        \"description\": \"\"\n      }\n    },\n    {\n      \"column\": \"\\ud53d\\uc5c5ID\",\n      \"properties\": {\n        \"dtype\": \"number\",\n        \"std\": 1019.6395402767827,\n        \"min\": 2.0,\n        \"max\": 2891.0,\n        \"num_unique_values\": 8,\n        \"samples\": [\n          6.848495330335524,\n          7.0,\n          2891.0\n        ],\n        \"semantic_type\": \"\",\n        \"description\": \"\"\n      }\n    },\n    {\n      \"column\": \"\\ud53d\\uc5c5\\ub0a0\\uc9dc\",\n      \"properties\": {\n        \"dtype\": \"date\",\n        \"min\": \"1970-01-01 00:00:00.000002891\",\n        \"max\": \"2010-03-10 00:00:00\",\n        \"num_unique_values\": 7,\n        \"samples\": [\n          \"2891\",\n          \"2009-10-25 06:48:56.285022464\",\n          \"2010-01-27 00:00:00\"\n        ],\n        \"semantic_type\": \"\",\n        \"description\": \"\"\n      }\n    }\n  ]\n}"
            }
          },
          "metadata": {},
          "execution_count": 19
        }
      ]
    },
    {
      "cell_type": "code",
      "source": [
        "# 데이터 내, 변수에 대한 상세 특징들을 연산함수를 통해 확인 가능한다.\n",
        "# 보편적으로 시각화를 도출하기 전에 대략적인 수치 값을 확인하고자 수행한다."
      ],
      "metadata": {
        "id": "AnfmawAtbQUJ"
      },
      "execution_count": null,
      "outputs": []
    },
    {
      "cell_type": "markdown",
      "source": [
        "___"
      ],
      "metadata": {
        "id": "HHTB_BwTpGuu"
      }
    },
    {
      "cell_type": "markdown",
      "source": [
        "## **데이터 탐색: 시각화 중심**"
      ],
      "metadata": {
        "id": "4YeSNcRVqKUo"
      }
    },
    {
      "cell_type": "code",
      "source": [
        "# 분포모형 측정\n",
        "skew = df['총청구액'].skew()           # 왜도(skewness) 측정\n",
        "kurt = df['총청구액'].kurtosis()       # 첨도(Kurtosis) 측정\n",
        "print('왜도(Skewness): {0}, 첨도(Kurtosis): {1}'.format(skew, kurt));print()\n",
        "\n",
        "# 차트 옵션 설정\n",
        "plot_size01()\n",
        "plot_font()\n",
        "\n",
        "# 히스토그램 시각화\n",
        "plt.title('총청구액에 대한 왜도/첨도', fontweight='bold')\n",
        "sns.histplot(df['총청구액'],\n",
        "             kde=True,                 # 밀도 함수 곡선 추가\n",
        "             bins=30)                  # bin 개수"
      ],
      "metadata": {
        "colab": {
          "base_uri": "https://localhost:8080/",
          "height": 472
        },
        "id": "QjZZVbqHSmRf",
        "outputId": "a6d5fdae-0bd0-4bc2-fe1a-fc031f3af39f"
      },
      "execution_count": null,
      "outputs": [
        {
          "output_type": "stream",
          "name": "stdout",
          "text": [
            "왜도(Skewness): 2.5265146120794437, 첨도(Kurtosis): 12.558680873925127\n",
            "\n"
          ]
        },
        {
          "output_type": "execute_result",
          "data": {
            "text/plain": [
              "<Axes: title={'center': '총청구액에 대한 왜도/첨도'}, xlabel='총청구액', ylabel='Count'>"
            ]
          },
          "metadata": {},
          "execution_count": 23
        },
        {
          "output_type": "display_data",
          "data": {
            "text/plain": [
              "<Figure size 800x400 with 1 Axes>"
            ],
            "image/png": "[encoded data removed]"
          },
          "metadata": {}
        }
      ]
    },
    {
      "cell_type": "code",
      "source": [
        "# 로그변환: '총청구액' 변수\n",
        "logsales = np.log1p(df['총청구액'])\n",
        "\n",
        "# 분포모형 측정\n",
        "log_skew = logsales.skew()           # 왜도(skewness) 측정\n",
        "log_kurt = logsales.kurtosis()       # 첨도(Kurtosis) 측정\n",
        "print('왜도(Skewness): {0}, 첨도(Kurtosis): {1}'.format(log_skew, log_kurt));print()\n",
        "\n",
        "# 차트 옵션 설정\n",
        "plot_size01()\n",
        "plot_font()\n",
        "\n",
        "# 히스토그램 시각화\n",
        "plt.title('총청구액에 대한 왜도/첨도', fontweight='bold')\n",
        "sns.histplot(logsales,\n",
        "             kde=True,                 # 밀도 함수 곡선 추가\n",
        "             bins=30)                  # bin 개수"
      ],
      "metadata": {
        "colab": {
          "base_uri": "https://localhost:8080/",
          "height": 457
        },
        "id": "jRRoL5KxThsG",
        "outputId": "fd62c225-2d7e-4659-ffe6-e5a55eda018e"
      },
      "execution_count": null,
      "outputs": [
        {
          "output_type": "stream",
          "name": "stdout",
          "text": [
            "왜도(Skewness): -0.39440275697560795, 첨도(Kurtosis): 0.08117379684042758\n",
            "\n"
          ]
        },
        {
          "output_type": "execute_result",
          "data": {
            "text/plain": [
              "<Axes: title={'center': '총청구액에 대한 왜도/첨도'}, xlabel='총청구액', ylabel='Count'>"
            ]
          },
          "metadata": {},
          "execution_count": 25
        },
        {
          "output_type": "display_data",
          "data": {
            "text/plain": [
              "<Figure size 800x400 with 1 Axes>"
            ],
            "image/png": "[encoded data removed]"
          },
          "metadata": {}
        }
      ]
    },
    {
      "cell_type": "code",
      "source": [
        "# 데이터 내, '총청구액' 변수에 대한 대칭여부(정규분포 여부)를 확인하고자, 왜도/첨도를 측정했다.\n",
        "# 원본 데이터를 대상으로 측정했을 때, 양의 왜도/첨도 값을 확인했으며, 이를 통해 오른쪽 꼬리가 길면서 정규분포 보다 두꺼운 분포임을 확인했다.\n",
        "# 반면, 로그변환을 거친 데이터를 대상으로 측정했을 때, 음의 왜도 값과 3보다 작은 첨도 값을 확인으며, 이를 통해 왼쪽 꼬리가 길면서 정규분포 보다 얇은 분포임을 확인했다.\n",
        "\n",
        "# 이를 통해, 로그 변환은 정규성을 높이는데 도움이 되는 것을 확인했고, 이는 머신러닝 분야에서 정확한 값을 얻기 위해 활용된다."
      ],
      "metadata": {
        "id": "63907V_ZtXzO"
      },
      "execution_count": null,
      "outputs": []
    },
    {
      "cell_type": "markdown",
      "source": [
        "____"
      ],
      "metadata": {
        "id": "2QEoyxxntYTW"
      }
    },
    {
      "cell_type": "markdown",
      "source": [
        "## **상관분석**"
      ],
      "metadata": {
        "id": "fBhOofpExCzj"
      }
    },
    {
      "cell_type": "code",
      "source": [
        "# 데이터 불러오기\n",
        "df2 = sns.load_dataset('titanic')\n",
        "\n",
        "# 불필요 데이터 제거\n",
        "df2.drop(columns=['sibsp', 'parch', 'embarked', 'class', 'adult_male', 'embark_town', 'alive', 'deck'], inplace=True)\n",
        "\n",
        "# 변수 요인 변환\n",
        "df2 = df2.replace({'sex': {'male': '1', 'female': '2'}})\n",
        "df2 = df2.astype({'alone': 'str'})\n",
        "df2 = df2.replace({'alone': {'True': '1', 'False': '2'}})\n",
        "df2 = df2.replace({'who': {'man': '1', 'woman': '2', 'child': '3'}})\n",
        "\n",
        "# 결측치 제거\n",
        "df2.dropna(axis=0, inplace=True)\n",
        "\n",
        "print(df2.shape)\n",
        "df2"
      ],
      "metadata": {
        "id": "LsHJZU3Tj9ss",
        "colab": {
          "base_uri": "https://localhost:8080/",
          "height": 442
        },
        "outputId": "da85dd42-88d6-4fb1-8bca-078e4998c230"
      },
      "execution_count": null,
      "outputs": [
        {
          "output_type": "stream",
          "name": "stdout",
          "text": [
            "(714, 7)\n"
          ]
        },
        {
          "output_type": "execute_result",
          "data": {
            "text/plain": [
              "     survived  pclass sex   age     fare who alone\n",
              "0           0       3   1  22.0   7.2500   1     2\n",
              "1           1       1   2  38.0  71.2833   2     2\n",
              "2           1       3   2  26.0   7.9250   2     1\n",
              "3           1       1   2  35.0  53.1000   2     2\n",
              "4           0       3   1  35.0   8.0500   1     1\n",
              "..        ...     ...  ..   ...      ...  ..   ...\n",
              "885         0       3   2  39.0  29.1250   2     2\n",
              "886         0       2   1  27.0  13.0000   1     1\n",
              "887         1       1   2  19.0  30.0000   2     1\n",
              "889         1       1   1  26.0  30.0000   1     1\n",
              "890         0       3   1  32.0   7.7500   1     1\n",
              "\n",
              "[714 rows x 7 columns]"
            ],
            "text/html": [
              "\n",
              "  <div id=\"df-5d587d35-a870-4cbb-b3e5-93924f591bac\" class=\"colab-df-container\">\n",
              "    <div>\n",
              "<style scoped>\n",
              "    .dataframe tbody tr th:only-of-type {\n",
              "        vertical-align: middle;\n",
              "    }\n",
              "\n",
              "    .dataframe tbody tr th {\n",
              "        vertical-align: top;\n",
              "    }\n",
              "\n",
              "    .dataframe thead th {\n",
              "        text-align: right;\n",
              "    }\n",
              "</style>\n",
              "<table border=\"1\" class=\"dataframe\">\n",
              "  <thead>\n",
              "    <tr style=\"text-align: right;\">\n",
              "      <th></th>\n",
              "      <th>survived</th>\n",
              "      <th>pclass</th>\n",
              "      <th>sex</th>\n",
              "      <th>age</th>\n",
              "      <th>fare</th>\n",
              "      <th>who</th>\n",
              "      <th>alone</th>\n",
              "    </tr>\n",
              "  </thead>\n",
              "  <tbody>\n",
              "    <tr>\n",
              "      <th>0</th>\n",
              "      <td>0</td>\n",
              "      <td>3</td>\n",
              "      <td>1</td>\n",
              "      <td>22.0</td>\n",
              "      <td>7.2500</td>\n",
              "      <td>1</td>\n",
              "      <td>2</td>\n",
              "    </tr>\n",
              "    <tr>\n",
              "      <th>1</th>\n",
              "      <td>1</td>\n",
              "      <td>1</td>\n",
              "      <td>2</td>\n",
              "      <td>38.0</td>\n",
              "      <td>71.2833</td>\n",
              "      <td>2</td>\n",
              "      <td>2</td>\n",
              "    </tr>\n",
              "    <tr>\n",
              "      <th>2</th>\n",
              "      <td>1</td>\n",
              "      <td>3</td>\n",
              "      <td>2</td>\n",
              "      <td>26.0</td>\n",
              "      <td>7.9250</td>\n",
              "      <td>2</td>\n",
              "      <td>1</td>\n",
              "    </tr>\n",
              "    <tr>\n",
              "      <th>3</th>\n",
              "      <td>1</td>\n",
              "      <td>1</td>\n",
              "      <td>2</td>\n",
              "      <td>35.0</td>\n",
              "      <td>53.1000</td>\n",
              "      <td>2</td>\n",
              "      <td>2</td>\n",
              "    </tr>\n",
              "    <tr>\n",
              "      <th>4</th>\n",
              "      <td>0</td>\n",
              "      <td>3</td>\n",
              "      <td>1</td>\n",
              "      <td>35.0</td>\n",
              "      <td>8.0500</td>\n",
              "      <td>1</td>\n",
              "      <td>1</td>\n",
              "    </tr>\n",
              "    <tr>\n",
              "      <th>...</th>\n",
              "      <td>...</td>\n",
              "      <td>...</td>\n",
              "      <td>...</td>\n",
              "      <td>...</td>\n",
              "      <td>...</td>\n",
              "      <td>...</td>\n",
              "      <td>...</td>\n",
              "    </tr>\n",
              "    <tr>\n",
              "      <th>885</th>\n",
              "      <td>0</td>\n",
              "      <td>3</td>\n",
              "      <td>2</td>\n",
              "      <td>39.0</td>\n",
              "      <td>29.1250</td>\n",
              "      <td>2</td>\n",
              "      <td>2</td>\n",
              "    </tr>\n",
              "    <tr>\n",
              "      <th>886</th>\n",
              "      <td>0</td>\n",
              "      <td>2</td>\n",
              "      <td>1</td>\n",
              "      <td>27.0</td>\n",
              "      <td>13.0000</td>\n",
              "      <td>1</td>\n",
              "      <td>1</td>\n",
              "    </tr>\n",
              "    <tr>\n",
              "      <th>887</th>\n",
              "      <td>1</td>\n",
              "      <td>1</td>\n",
              "      <td>2</td>\n",
              "      <td>19.0</td>\n",
              "      <td>30.0000</td>\n",
              "      <td>2</td>\n",
              "      <td>1</td>\n",
              "    </tr>\n",
              "    <tr>\n",
              "      <th>889</th>\n",
              "      <td>1</td>\n",
              "      <td>1</td>\n",
              "      <td>1</td>\n",
              "      <td>26.0</td>\n",
              "      <td>30.0000</td>\n",
              "      <td>1</td>\n",
              "      <td>1</td>\n",
              "    </tr>\n",
              "    <tr>\n",
              "      <th>890</th>\n",
              "      <td>0</td>\n",
              "      <td>3</td>\n",
              "      <td>1</td>\n",
              "      <td>32.0</td>\n",
              "      <td>7.7500</td>\n",
              "      <td>1</td>\n",
              "      <td>1</td>\n",
              "    </tr>\n",
              "  </tbody>\n",
              "</table>\n",
              "<p>714 rows × 7 columns</p>\n",
              "</div>\n",
              "    <div class=\"colab-df-buttons\">\n",
              "\n",
              "  <div class=\"colab-df-container\">\n",
              "    <button class=\"colab-df-convert\" onclick=\"convertToInteractive('df-5d587d35-a870-4cbb-b3e5-93924f591bac')\"\n",
              "            title=\"Convert this dataframe to an interactive table.\"\n",
              "            style=\"display:none;\">\n",
              "\n",
              "  <svg xmlns=\"http://www.w3.org/2000/svg\" height=\"24px\" viewBox=\"0 -960 960 960\">\n",
              "    <path d=\"M120-120v-720h720v720H120Zm60-500h600v-160H180v160Zm220 220h160v-160H400v160Zm0 220h160v-160H400v160ZM180-400h160v-160H180v160Zm440 0h160v-160H620v160ZM180-180h160v-160H180v160Zm440 0h160v-160H620v160Z\"/>\n",
              "  </svg>\n",
              "    </button>\n",
              "\n",
              "  <style>\n",
              "    .colab-df-container {\n",
              "      display:flex;\n",
              "      gap: 12px;\n",
              "    }\n",
              "\n",
              "    .colab-df-convert {\n",
              "      background-color: #E8F0FE;\n",
              "      border: none;\n",
              "      border-radius: 50%;\n",
              "      cursor: pointer;\n",
              "      display: none;\n",
              "      fill: #1967D2;\n",
              "      height: 32px;\n",
              "      padding: 0 0 0 0;\n",
              "      width: 32px;\n",
              "    }\n",
              "\n",
              "    .colab-df-convert:hover {\n",
              "      background-color: #E2EBFA;\n",
              "      box-shadow: 0px 1px 2px rgba(60, 64, 67, 0.3), 0px 1px 3px 1px rgba(60, 64, 67, 0.15);\n",
              "      fill: #174EA6;\n",
              "    }\n",
              "\n",
              "    .colab-df-buttons div {\n",
              "      margin-bottom: 4px;\n",
              "    }\n",
              "\n",
              "    [theme=dark] .colab-df-convert {\n",
              "      background-color: #3B4455;\n",
              "      fill: #D2E3FC;\n",
              "    }\n",
              "\n",
              "    [theme=dark] .colab-df-convert:hover {\n",
              "      background-color: #434B5C;\n",
              "      box-shadow: 0px 1px 3px 1px rgba(0, 0, 0, 0.15);\n",
              "      filter: drop-shadow(0px 1px 2px rgba(0, 0, 0, 0.3));\n",
              "      fill: #FFFFFF;\n",
              "    }\n",
              "  </style>\n",
              "\n",
              "    <script>\n",
              "      const buttonEl =\n",
              "        document.querySelector('#df-5d587d35-a870-4cbb-b3e5-93924f591bac button.colab-df-convert');\n",
              "      buttonEl.style.display =\n",
              "        google.colab.kernel.accessAllowed ? 'block' : 'none';\n",
              "\n",
              "      async function convertToInteractive(key) {\n",
              "        const element = document.querySelector('#df-5d587d35-a870-4cbb-b3e5-93924f591bac');\n",
              "        const dataTable =\n",
              "          await google.colab.kernel.invokeFunction('convertToInteractive',\n",
              "                                                    [key], {});\n",
              "        if (!dataTable) return;\n",
              "\n",
              "        const docLinkHtml = 'Like what you see? Visit the ' +\n",
              "          '<a target=\"_blank\" href=https://colab.research.google.com/notebooks/data_table.ipynb>data table notebook</a>'\n",
              "          + ' to learn more about interactive tables.';\n",
              "        element.innerHTML = '';\n",
              "        dataTable['output_type'] = 'display_data';\n",
              "        await google.colab.output.renderOutput(dataTable, element);\n",
              "        const docLink = document.createElement('div');\n",
              "        docLink.innerHTML = docLinkHtml;\n",
              "        element.appendChild(docLink);\n",
              "      }\n",
              "    </script>\n",
              "  </div>\n",
              "\n",
              "\n",
              "<div id=\"df-0eaeb841-9139-4aca-bd6f-df4b7f5fff69\">\n",
              "  <button class=\"colab-df-quickchart\" onclick=\"quickchart('df-0eaeb841-9139-4aca-bd6f-df4b7f5fff69')\"\n",
              "            title=\"Suggest charts\"\n",
              "            style=\"display:none;\">\n",
              "\n",
              "<svg xmlns=\"http://www.w3.org/2000/svg\" height=\"24px\"viewBox=\"0 0 24 24\"\n",
              "     width=\"24px\">\n",
              "    <g>\n",
              "        <path d=\"M19 3H5c-1.1 0-2 .9-2 2v14c0 1.1.9 2 2 2h14c1.1 0 2-.9 2-2V5c0-1.1-.9-2-2-2zM9 17H7v-7h2v7zm4 0h-2V7h2v10zm4 0h-2v-4h2v4z\"/>\n",
              "    </g>\n",
              "</svg>\n",
              "  </button>\n",
              "\n",
              "<style>\n",
              "  .colab-df-quickchart {\n",
              "      --bg-color: #E8F0FE;\n",
              "      --fill-color: #1967D2;\n",
              "      --hover-bg-color: #E2EBFA;\n",
              "      --hover-fill-color: #174EA6;\n",
              "      --disabled-fill-color: #AAA;\n",
              "      --disabled-bg-color: #DDD;\n",
              "  }\n",
              "\n",
              "  [theme=dark] .colab-df-quickchart {\n",
              "      --bg-color: #3B4455;\n",
              "      --fill-color: #D2E3FC;\n",
              "      --hover-bg-color: #434B5C;\n",
              "      --hover-fill-color: #FFFFFF;\n",
              "      --disabled-bg-color: #3B4455;\n",
              "      --disabled-fill-color: #666;\n",
              "  }\n",
              "\n",
              "  .colab-df-quickchart {\n",
              "    background-color: var(--bg-color);\n",
              "    border: none;\n",
              "    border-radius: 50%;\n",
              "    cursor: pointer;\n",
              "    display: none;\n",
              "    fill: var(--fill-color);\n",
              "    height: 32px;\n",
              "    padding: 0;\n",
              "    width: 32px;\n",
              "  }\n",
              "\n",
              "  .colab-df-quickchart:hover {\n",
              "    background-color: var(--hover-bg-color);\n",
              "    box-shadow: 0 1px 2px rgba(60, 64, 67, 0.3), 0 1px 3px 1px rgba(60, 64, 67, 0.15);\n",
              "    fill: var(--button-hover-fill-color);\n",
              "  }\n",
              "\n",
              "  .colab-df-quickchart-complete:disabled,\n",
              "  .colab-df-quickchart-complete:disabled:hover {\n",
              "    background-color: var(--disabled-bg-color);\n",
              "    fill: var(--disabled-fill-color);\n",
              "    box-shadow: none;\n",
              "  }\n",
              "\n",
              "  .colab-df-spinner {\n",
              "    border: 2px solid var(--fill-color);\n",
              "    border-color: transparent;\n",
              "    border-bottom-color: var(--fill-color);\n",
              "    animation:\n",
              "      spin 1s steps(1) infinite;\n",
              "  }\n",
              "\n",
              "  @keyframes spin {\n",
              "    0% {\n",
              "      border-color: transparent;\n",
              "      border-bottom-color: var(--fill-color);\n",
              "      border-left-color: var(--fill-color);\n",
              "    }\n",
              "    20% {\n",
              "      border-color: transparent;\n",
              "      border-left-color: var(--fill-color);\n",
              "      border-top-color: var(--fill-color);\n",
              "    }\n",
              "    30% {\n",
              "      border-color: transparent;\n",
              "      border-left-color: var(--fill-color);\n",
              "      border-top-color: var(--fill-color);\n",
              "      border-right-color: var(--fill-color);\n",
              "    }\n",
              "    40% {\n",
              "      border-color: transparent;\n",
              "      border-right-color: var(--fill-color);\n",
              "      border-top-color: var(--fill-color);\n",
              "    }\n",
              "    60% {\n",
              "      border-color: transparent;\n",
              "      border-right-color: var(--fill-color);\n",
              "    }\n",
              "    80% {\n",
              "      border-color: transparent;\n",
              "      border-right-color: var(--fill-color);\n",
              "      border-bottom-color: var(--fill-color);\n",
              "    }\n",
              "    90% {\n",
              "      border-color: transparent;\n",
              "      border-bottom-color: var(--fill-color);\n",
              "    }\n",
              "  }\n",
              "</style>\n",
              "\n",
              "  <script>\n",
              "    async function quickchart(key) {\n",
              "      const quickchartButtonEl =\n",
              "        document.querySelector('#' + key + ' button');\n",
              "      quickchartButtonEl.disabled = true;  // To prevent multiple clicks.\n",
              "      quickchartButtonEl.classList.add('colab-df-spinner');\n",
              "      try {\n",
              "        const charts = await google.colab.kernel.invokeFunction(\n",
              "            'suggestCharts', [key], {});\n",
              "      } catch (error) {\n",
              "        console.error('Error during call to suggestCharts:', error);\n",
              "      }\n",
              "      quickchartButtonEl.classList.remove('colab-df-spinner');\n",
              "      quickchartButtonEl.classList.add('colab-df-quickchart-complete');\n",
              "    }\n",
              "    (() => {\n",
              "      let quickchartButtonEl =\n",
              "        document.querySelector('#df-0eaeb841-9139-4aca-bd6f-df4b7f5fff69 button');\n",
              "      quickchartButtonEl.style.display =\n",
              "        google.colab.kernel.accessAllowed ? 'block' : 'none';\n",
              "    })();\n",
              "  </script>\n",
              "</div>\n",
              "\n",
              "  <div id=\"id_7f43ca46-bf01-40be-808a-27ee0b28e5b3\">\n",
              "    <style>\n",
              "      .colab-df-generate {\n",
              "        background-color: #E8F0FE;\n",
              "        border: none;\n",
              "        border-radius: 50%;\n",
              "        cursor: pointer;\n",
              "        display: none;\n",
              "        fill: #1967D2;\n",
              "        height: 32px;\n",
              "        padding: 0 0 0 0;\n",
              "        width: 32px;\n",
              "      }\n",
              "\n",
              "      .colab-df-generate:hover {\n",
              "        background-color: #E2EBFA;\n",
              "        box-shadow: 0px 1px 2px rgba(60, 64, 67, 0.3), 0px 1px 3px 1px rgba(60, 64, 67, 0.15);\n",
              "        fill: #174EA6;\n",
              "      }\n",
              "\n",
              "      [theme=dark] .colab-df-generate {\n",
              "        background-color: #3B4455;\n",
              "        fill: #D2E3FC;\n",
              "      }\n",
              "\n",
              "      [theme=dark] .colab-df-generate:hover {\n",
              "        background-color: #434B5C;\n",
              "        box-shadow: 0px 1px 3px 1px rgba(0, 0, 0, 0.15);\n",
              "        filter: drop-shadow(0px 1px 2px rgba(0, 0, 0, 0.3));\n",
              "        fill: #FFFFFF;\n",
              "      }\n",
              "    </style>\n",
              "    <button class=\"colab-df-generate\" onclick=\"generateWithVariable('df2')\"\n",
              "            title=\"Generate code using this dataframe.\"\n",
              "            style=\"display:none;\">\n",
              "\n",
              "  <svg xmlns=\"http://www.w3.org/2000/svg\" height=\"24px\"viewBox=\"0 0 24 24\"\n",
              "       width=\"24px\">\n",
              "    <path d=\"M7,19H8.4L18.45,9,17,7.55,7,17.6ZM5,21V16.75L18.45,3.32a2,2,0,0,1,2.83,0l1.4,1.43a1.91,1.91,0,0,1,.58,1.4,1.91,1.91,0,0,1-.58,1.4L9.25,21ZM18.45,9,17,7.55Zm-12,3A5.31,5.31,0,0,0,4.9,8.1,5.31,5.31,0,0,0,1,6.5,5.31,5.31,0,0,0,4.9,4.9,5.31,5.31,0,0,0,6.5,1,5.31,5.31,0,0,0,8.1,4.9,5.31,5.31,0,0,0,12,6.5,5.46,5.46,0,0,0,6.5,12Z\"/>\n",
              "  </svg>\n",
              "    </button>\n",
              "    <script>\n",
              "      (() => {\n",
              "      const buttonEl =\n",
              "        document.querySelector('#id_7f43ca46-bf01-40be-808a-27ee0b28e5b3 button.colab-df-generate');\n",
              "      buttonEl.style.display =\n",
              "        google.colab.kernel.accessAllowed ? 'block' : 'none';\n",
              "\n",
              "      buttonEl.onclick = () => {\n",
              "        google.colab.notebook.generateWithVariable('df2');\n",
              "      }\n",
              "      })();\n",
              "    </script>\n",
              "  </div>\n",
              "\n",
              "    </div>\n",
              "  </div>\n"
            ],
            "application/vnd.google.colaboratory.intrinsic+json": {
              "type": "dataframe",
              "variable_name": "df2",
              "summary": "{\n  \"name\": \"df2\",\n  \"rows\": 714,\n  \"fields\": [\n    {\n      \"column\": \"survived\",\n      \"properties\": {\n        \"dtype\": \"number\",\n        \"std\": 0,\n        \"min\": 0,\n        \"max\": 1,\n        \"num_unique_values\": 2,\n        \"samples\": [\n          1,\n          0\n        ],\n        \"semantic_type\": \"\",\n        \"description\": \"\"\n      }\n    },\n    {\n      \"column\": \"pclass\",\n      \"properties\": {\n        \"dtype\": \"number\",\n        \"std\": 0,\n        \"min\": 1,\n        \"max\": 3,\n        \"num_unique_values\": 3,\n        \"samples\": [\n          3,\n          1\n        ],\n        \"semantic_type\": \"\",\n        \"description\": \"\"\n      }\n    },\n    {\n      \"column\": \"sex\",\n      \"properties\": {\n        \"dtype\": \"category\",\n        \"num_unique_values\": 2,\n        \"samples\": [\n          \"2\",\n          \"1\"\n        ],\n        \"semantic_type\": \"\",\n        \"description\": \"\"\n      }\n    },\n    {\n      \"column\": \"age\",\n      \"properties\": {\n        \"dtype\": \"number\",\n        \"std\": 14.526497332334042,\n        \"min\": 0.42,\n        \"max\": 80.0,\n        \"num_unique_values\": 88,\n        \"samples\": [\n          0.75,\n          22.0\n        ],\n        \"semantic_type\": \"\",\n        \"description\": \"\"\n      }\n    },\n    {\n      \"column\": \"fare\",\n      \"properties\": {\n        \"dtype\": \"number\",\n        \"std\": 52.91892950254356,\n        \"min\": 0.0,\n        \"max\": 512.3292,\n        \"num_unique_values\": 220,\n        \"samples\": [\n          14.0,\n          15.7417\n        ],\n        \"semantic_type\": \"\",\n        \"description\": \"\"\n      }\n    },\n    {\n      \"column\": \"who\",\n      \"properties\": {\n        \"dtype\": \"category\",\n        \"num_unique_values\": 3,\n        \"samples\": [\n          \"1\",\n          \"2\"\n        ],\n        \"semantic_type\": \"\",\n        \"description\": \"\"\n      }\n    },\n    {\n      \"column\": \"alone\",\n      \"properties\": {\n        \"dtype\": \"category\",\n        \"num_unique_values\": 2,\n        \"samples\": [\n          \"1\",\n          \"2\"\n        ],\n        \"semantic_type\": \"\",\n        \"description\": \"\"\n      }\n    }\n  ]\n}"
            }
          },
          "metadata": {},
          "execution_count": 6
        }
      ]
    },
    {
      "cell_type": "code",
      "source": [
        "# 변수설명\n",
        "# survived:  생존여부(0: 사망 / 1: 생존)\n",
        "# pclass: 객실등급(1: 가장 좋은 객실 / 3: 가장 않좋은 객실)\n",
        "# sex: 성별(1: 남자 / 2: 여자)\n",
        "# age: 나이\n",
        "# fare: 요금\n",
        "# who: 대상(1: 남자 / 2: 여자 / 3: 아이)\n",
        "# alone: 혼자탑승했는지 여부(1: 혼자탑승 / 2: 가족과 함께 탑승)"
      ],
      "metadata": {
        "id": "-Ic08O4_rAx_"
      },
      "execution_count": null,
      "outputs": []
    },
    {
      "cell_type": "code",
      "source": [
        "# 질문A: 객식등급별 사망자 수가 엄라나 차이가 날까?\n",
        "\n",
        "# 차트 옵션 설정\n",
        "plot_size01()\n",
        "plot_font()\n",
        "\n",
        "# 히스토그램 시각화\n",
        "plt.title('객실등급별 사암자 수가 얼마나 차이가날까?', fontweight='bold')\n",
        "sns.violinplot(data=df2, x='pclass', y='survived')"
      ],
      "metadata": {
        "colab": {
          "base_uri": "https://localhost:8080/",
          "height": 420
        },
        "id": "0uueDt_4uy-9",
        "outputId": "c2ce7bb1-f801-443f-f9b6-94fab6969e1e"
      },
      "execution_count": null,
      "outputs": [
        {
          "output_type": "execute_result",
          "data": {
            "text/plain": [
              "<Axes: title={'center': '객실등급별 사암자 수가 얼마나 차이가날까?'}, xlabel='pclass', ylabel='survived'>"
            ]
          },
          "metadata": {},
          "execution_count": 10
        },
        {
          "output_type": "display_data",
          "data": {
            "text/plain": [
              "<Figure size 800x400 with 1 Axes>"
            ],
            "image/png": "[encoded data removed]"
          },
          "metadata": {}
        }
      ]
    },
    {
      "cell_type": "code",
      "source": [
        "# 상관계수 측정\n",
        "pearson_matrix = df2.corr(method='pearson')      # 피어슨\n",
        "spearman_matrix = df2.corr(method='spearman')    # 스피어만\n",
        "\n",
        "# 차트 옵션 설정\n",
        "plot_size02()\n",
        "\n",
        "# 히트맵 시각화\n",
        "plt.subplot(1, 2, 1)\n",
        "plt.title(\"피어슨(pearson)\", fontsize=14, fontweight =\"bold\")\n",
        "ax1 = sns.heatmap(pearson_matrix, annot=True, linewidths=.5, cmap='Blues', annot_kws={\"size\": 8})\n",
        "ylim1 = ax1.get_ylim()\n",
        "ax1.set_ylim(ylim1[0] + 0.5, ylim1[1] - 0.5)\n",
        "\n",
        "plt.subplot(1, 2, 2)\n",
        "plt.title(\"스피어만(spearman)\", fontsize=14, fontweight =\"bold\")\n",
        "ax2 = sns.heatmap(spearman_matrix, annot=True, linewidths=.5, cmap='Blues', annot_kws={\"size\": 8})\n",
        "ylim2 = ax2.get_ylim()\n",
        "ax2.set_ylim(ylim2[0] + 0.5, ylim2[1] - 0.5)\n",
        "\n",
        "plt.show()"
      ],
      "metadata": {
        "colab": {
          "base_uri": "https://localhost:8080/",
          "height": 545
        },
        "id": "JMyramO1xMOe",
        "outputId": "3af8b941-5caf-44a5-9444-30a784bb8e3e"
      },
      "execution_count": null,
      "outputs": [
        {
          "output_type": "display_data",
          "data": {
            "text/plain": [
              "<Figure size 1400x600 with 4 Axes>"
            ],
            "image/png": "[encoded data removed]"
          },
          "metadata": {}
        }
      ]
    },
    {
      "cell_type": "code",
      "source": [
        "# 질문A(\"객식등급별 사망자 수가 엄라나 차이가 날까?\")를 고려해보면,\n",
        "# 객실등급(pclass)과 생존율(survived)의 상관계수를 확인했을 때 -0.36이란 약한 음의 상관관계가 있다는 것을 확인했다.\n",
        "# 이를 통해, 좋은 객실은 생존율이 높고, 안좋은 객실일수록 생존율(0: 사망 / 1: 생존)이 낮다는 것을 확인했다."
      ],
      "metadata": {
        "id": "-Eu5Y5wPj9kY"
      },
      "execution_count": null,
      "outputs": []
    },
    {
      "cell_type": "code",
      "source": [
        "df2.corr()['survived'].sort_values(ascending=False)"
      ],
      "metadata": {
        "colab": {
          "base_uri": "https://localhost:8080/",
          "height": 304
        },
        "id": "ZPQAqqp-xsLL",
        "outputId": "1a982644-3dbd-47e1-c50d-2d02ad1cb979"
      },
      "execution_count": null,
      "outputs": [
        {
          "output_type": "execute_result",
          "data": {
            "text/plain": [
              "survived    1.000000\n",
              "sex         0.538826\n",
              "who         0.456532\n",
              "fare        0.268189\n",
              "alone       0.196140\n",
              "age        -0.077221\n",
              "pclass     -0.359653\n",
              "Name: survived, dtype: float64"
            ],
            "text/html": [
              "<div>\n",
              "<style scoped>\n",
              "    .dataframe tbody tr th:only-of-type {\n",
              "        vertical-align: middle;\n",
              "    }\n",
              "\n",
              "    .dataframe tbody tr th {\n",
              "        vertical-align: top;\n",
              "    }\n",
              "\n",
              "    .dataframe thead th {\n",
              "        text-align: right;\n",
              "    }\n",
              "</style>\n",
              "<table border=\"1\" class=\"dataframe\">\n",
              "  <thead>\n",
              "    <tr style=\"text-align: right;\">\n",
              "      <th></th>\n",
              "      <th>survived</th>\n",
              "    </tr>\n",
              "  </thead>\n",
              "  <tbody>\n",
              "    <tr>\n",
              "      <th>survived</th>\n",
              "      <td>1.000000</td>\n",
              "    </tr>\n",
              "    <tr>\n",
              "      <th>sex</th>\n",
              "      <td>0.538826</td>\n",
              "    </tr>\n",
              "    <tr>\n",
              "      <th>who</th>\n",
              "      <td>0.456532</td>\n",
              "    </tr>\n",
              "    <tr>\n",
              "      <th>fare</th>\n",
              "      <td>0.268189</td>\n",
              "    </tr>\n",
              "    <tr>\n",
              "      <th>alone</th>\n",
              "      <td>0.196140</td>\n",
              "    </tr>\n",
              "    <tr>\n",
              "      <th>age</th>\n",
              "      <td>-0.077221</td>\n",
              "    </tr>\n",
              "    <tr>\n",
              "      <th>pclass</th>\n",
              "      <td>-0.359653</td>\n",
              "    </tr>\n",
              "  </tbody>\n",
              "</table>\n",
              "</div><br><label><b>dtype:</b> float64</label>"
            ]
          },
          "metadata": {},
          "execution_count": 13
        }
      ]
    },
    {
      "cell_type": "code",
      "source": [
        "# 상기 상관관계를 확인해보면 'sex, alone'이 가장 높게 산출되지만, 생존율과의 직접적인 관계성을 갖는다 생각되지 않는다 판단된다.\n",
        "# 이에, 세번째로 관계성이 높은 '-0.35'이란 약한 음의 상관관계를 갖는 객실등급(pclass)이 가장 큰 영향을 미친다고 판단된다."
      ],
      "metadata": {
        "id": "GA7L4Gr2xsIr"
      },
      "execution_count": null,
      "outputs": []
    },
    {
      "cell_type": "code",
      "source": [
        "# 상관계수 검정\n",
        "\n",
        "# 귀무가설: 상관관계가 없다\n",
        "# 대립가설: 상관관계가 있다.\n",
        "\n",
        "print(stats.pearsonr(df2['survived'], df2['pclass']))\n",
        "print(stats.spearmanr(df2['survived'], df2['pclass']))"
      ],
      "metadata": {
        "colab": {
          "base_uri": "https://localhost:8080/"
        },
        "id": "8Iby_8-O4YwM",
        "outputId": "c1c879f0-2308-46b9-de36-d5be62a246a8"
      },
      "execution_count": null,
      "outputs": [
        {
          "output_type": "stream",
          "name": "stdout",
          "text": [
            "PearsonRResult(statistic=-0.3596526820868458, pvalue=3.162103541666259e-23)\n",
            "SignificanceResult(statistic=-0.36065641974949025, pvalue=2.346106779238448e-23)\n"
          ]
        }
      ]
    },
    {
      "cell_type": "code",
      "source": [
        "# 생존율과 객식등급의 상관계수 값 자체가 유의미한지 검증하고자 검정을 수행하였으며, 이를 통해 0.05보다 작은 것을 확인하면서 대립가설을 채택(즉, 상관관계가 있음)을 확인했다."
      ],
      "metadata": {
        "id": "LFTymgQk1k6E"
      },
      "execution_count": null,
      "outputs": []
    },
    {
      "cell_type": "markdown",
      "source": [
        "___"
      ],
      "metadata": {
        "id": "cErROmla2dFU"
      }
    },
    {
      "cell_type": "markdown",
      "source": [
        "## **정규성검정: (시각화) Q-Q plot**"
      ],
      "metadata": {
        "id": "Z_RZwhOYx7T3"
      }
    },
    {
      "cell_type": "code",
      "source": [
        "# 총청구액 타입 변환\n",
        "nd_x1 = np.array(df['총청구액'])     # ndarray 타입으로 변환\n",
        "\n",
        "# 차트 옵션 설정\n",
        "plot_size02()\n",
        "\n",
        "# QQ플롯 시각화\n",
        "plt.subplot(1, 2, 1)\n",
        "plt.boxplot(nd_x1)\n",
        "\n",
        "plt.subplot(1, 2, 2)\n",
        "probplot(nd_x1, dist = stats.norm, plot=plt)\n",
        "\n",
        "plt.show()"
      ],
      "metadata": {
        "colab": {
          "base_uri": "https://localhost:8080/",
          "height": 561
        },
        "id": "i-E6bEFtX0k_",
        "outputId": "74c2f41b-adc7-470c-d97e-68efcf210b7c"
      },
      "execution_count": null,
      "outputs": [
        {
          "output_type": "display_data",
          "data": {
            "text/plain": [
              "<Figure size 1400x600 with 2 Axes>"
            ],
            "image/png": "[encoded data removed]"
          },
          "metadata": {}
        }
      ]
    },
    {
      "cell_type": "code",
      "source": [
        "# (박스플롯 해석)박스플롯의 3Q의 상단을 보면 많은 값들이 분포한 것을 확인할 수 있어 정규분포를 따른다고 보기 모호한 것을 확인했다.\n",
        "# (QQ플롯 해석)그래프의 대각선은 '이론적 정규분포'를 의미하여, 관측분포와의 일치여부를 확인했을 때 약간의 추세를 보였지만 양끝이 어긋나는 것을 확인했다.\n",
        "\n",
        "# 상기 그래프를 통해 정규분포를 따르지 않는다 판단되지만 보다 상세한 진단을 위해 통계적 검정 또한 수행했다."
      ],
      "metadata": {
        "id": "be9CxA548c1R"
      },
      "execution_count": null,
      "outputs": []
    },
    {
      "cell_type": "markdown",
      "source": [
        "## **정규성검정: (통계) Shapiro Test**"
      ],
      "metadata": {
        "id": "6kLh8LQ50occ"
      }
    },
    {
      "cell_type": "code",
      "source": [
        "# 샤피로 검정(Shapiro Test)\n",
        "# 특징: 데이터 수가 2,000개 미만일 때 사용하기 적절한 정규성 검정 방법론(2,000개 초과할 때는 p-values값을 담보하지 못함)\n",
        "\n",
        "# 귀무가설: 표본분포가 정규분포를 이루고 있다(즉, 정규분포와 유사함)\n",
        "# 대립가설: 표본분포가 정규분포를 이루고 있지 않다(즉, 정규분포가 아님)\n",
        "\n",
        "shapiro_test = stats.shapiro(x1)\n",
        "shapiro_test"
      ],
      "metadata": {
        "colab": {
          "base_uri": "https://localhost:8080/"
        },
        "id": "SLJPFwArM0GS",
        "outputId": "eddb067b-c616-447c-841c-f309c996d38b"
      },
      "execution_count": null,
      "outputs": [
        {
          "output_type": "execute_result",
          "data": {
            "text/plain": [
              "ShapiroResult(statistic=0.7933703660964966, pvalue=0.0)"
            ]
          },
          "metadata": {},
          "execution_count": 133
        }
      ]
    },
    {
      "cell_type": "markdown",
      "source": [
        "## **정규성검정: (통계) Kolmogorov–Smirnov test**"
      ],
      "metadata": {
        "id": "xGps04Nd0yk_"
      }
    },
    {
      "cell_type": "code",
      "source": [
        "# 콜모고로프-스미르노프 검정(Kolmogorov–Smirnov test)\n",
        "# 특징\n",
        "# 1. 데이터 수가 2,000개 이상일 떄 사용하기 적절한 정규성 검정 방법론\n",
        "# 2. 2개 데이터에 대한 검정이 가능하기 때문에 두 데이터의 분포가 다른지 'two-sided', 'less', 'greater' 기능 활용 가능\n",
        "#    누적확률분포(CDF)를 통해 특정 데이터의 분포가 모집단의 데이터 분포와 얼마나 유사한지 비교 혹은 두 데이터의 누적활률분포 차이를 비교 가능\n",
        "\n",
        "ks_test = stats.kstest(x1 , 'norm')\n",
        "ks_test"
      ],
      "metadata": {
        "colab": {
          "base_uri": "https://localhost:8080/"
        },
        "id": "ijhhSVMZ-7Ht",
        "outputId": "5b9bb56e-74fc-46cb-941c-bfa453ce6d8d"
      },
      "execution_count": null,
      "outputs": [
        {
          "output_type": "execute_result",
          "data": {
            "text/plain": [
              "KstestResult(statistic=0.9895001083333207, pvalue=0.0, statistic_location=2.76, statistic_sign=-1)"
            ]
          },
          "metadata": {},
          "execution_count": 134
        }
      ]
    },
    {
      "cell_type": "code",
      "source": [
        "# 상기 정규성 검정을 통해 pvalue가 0.0으로써 0.05보다 작아 통계적으로 유의미한 것을 확인했다\n",
        "# 따라서, 귀무가설 기각/대립가설 채택하면서 정규분포를 따르지 않는다는 것을 확인했다."
      ],
      "metadata": {
        "id": "2P0xYzcY-27U"
      },
      "execution_count": null,
      "outputs": []
    },
    {
      "cell_type": "markdown",
      "source": [
        "___"
      ],
      "metadata": {
        "id": "Ektg-6Oy0D6P"
      }
    }
  ]
}